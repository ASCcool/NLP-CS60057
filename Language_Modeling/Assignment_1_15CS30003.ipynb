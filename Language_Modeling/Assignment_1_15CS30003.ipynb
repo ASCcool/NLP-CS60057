{
 "cells": [
  {
   "cell_type": "code",
   "execution_count": 1,
   "metadata": {},
   "outputs": [],
   "source": [
    "from __future__ import division\n",
    "import nltk\n",
    "import re\n",
    "import matplotlib.pyplot as plt\n",
    "import numpy as np\n",
    "from nltk.corpus import brown\n",
    "from nltk import bigrams, ngrams, trigrams \n",
    "from nltk.probability import FreqDist as FreqDist  \n",
    "from numpy.polynomial.polynomial import polyfit\n",
    "from collections import Counter\n",
    "from string import digits\n",
    "from scipy import stats\n",
    "import operator\n",
    "from collections import OrderedDict"
   ]
  },
  {
   "cell_type": "code",
   "execution_count": 2,
   "metadata": {},
   "outputs": [],
   "source": [
    "def get_sentences(num_sentences):\n",
    "    sentences= brown.sents()[:num_sentences]\n",
    "    ret=[]\n",
    "    for sentence in sentences:\n",
    "        ret.append(' '.join(sentence))\n",
    "    return ret"
   ]
  },
  {
   "cell_type": "code",
   "execution_count": 3,
   "metadata": {},
   "outputs": [],
   "source": [
    "def preprocess_sents(sentences):\n",
    "    sentences = [sentence.lower() for sentence in sentences]\n",
    "    remove_digits = str.maketrans('', '', digits)\n",
    "    sentences = [sentence.translate(remove_digits)  for sentence in sentences]\n",
    "    sentences=[re.sub('\\W+',' ', sentence) for sentence in sentences]\n",
    "    return sentences"
   ]
  },
  {
   "cell_type": "code",
   "execution_count": 4,
   "metadata": {},
   "outputs": [],
   "source": [
    "def plot(x,y,Title=''):\n",
    "    x=np.asarray(x)\n",
    "    y=np.asarray(y)\n",
    "    print('Slope of best-fit line: ',np.polyfit(x,y,1)[0],', Intercept: ',np.polyfit(x,y,1)[1])\n",
    "    plt.plot(np.unique(x), np.poly1d(np.polyfit(x, y, 1))(np.unique(x)),'r', label='fitted line')\n",
    "    plt.scatter(x,y,label='original data')\n",
    "    plt.title(Title)\n",
    "    plt.legend()\n",
    "    plt.show()"
   ]
  },
  {
   "cell_type": "code",
   "execution_count": 5,
   "metadata": {},
   "outputs": [],
   "source": [
    "def unigram_LM(sents):\n",
    "    unigrams=[]\n",
    "    for elem in sents:\n",
    "        unigrams.extend(elem.split())\n",
    "\n",
    "    unigram_counts=Counter(unigrams)\n",
    "    unique_unigrams=set(unigrams)\n",
    "    unigram_total=len(unigrams)\n",
    "    unigram_freq=dict()\n",
    "    for word in unigram_counts:\n",
    "        unigram_freq[word]=unigram_counts[word]/unigram_total\n",
    "\n",
    "    return unigram_counts,unigram_freq,unigram_total"
   ]
  },
  {
   "cell_type": "code",
   "execution_count": 6,
   "metadata": {},
   "outputs": [],
   "source": [
    "def bigram_model(sentences,k=0,unique_bigrams_num=0):\n",
    "    model={}\n",
    "    for sent in sentences:\n",
    "         for w1,w2 in ngrams(sent.split(),2, pad_left=True,pad_right=True,left_pad_symbol='<s>',right_pad_symbol='</s>'):\n",
    "            if w1 not in model:\n",
    "                model[w1]={}\n",
    "            if w2 not in model[w1]:\n",
    "                model[w1][w2]=0\n",
    "            model[w1][w2]+=1\n",
    "    for w1 in model:\n",
    "        tot_count=float(sum(model[w1].values()))\n",
    "        for w2 in model[w1]:\n",
    "            model[w1][w2]+=k\n",
    "            model[w1][w2]/=(tot_count+k*unique_bigrams_num)\n",
    "     \n",
    "    return model\n",
    "\n"
   ]
  },
  {
   "cell_type": "code",
   "execution_count": 7,
   "metadata": {},
   "outputs": [],
   "source": [
    "def trigram_model(sentences=0,k=0,unique_trigrams_num=0):\n",
    "    model={}\n",
    "    for sent in sentences:\n",
    "         for w1,w2,w3 in ngrams(sent.split(),3, pad_left=True,pad_right=True,left_pad_symbol='<s>',right_pad_symbol='</s>'):\n",
    "            if (w1,w2) not in model:\n",
    "                model[(w1,w2)]={}\n",
    "            if w3 not in model[(w1,w2)]:\n",
    "                model[(w1,w2)][w3]=0\n",
    "            model[(w1,w2)][w3]+=1\n",
    "    for (w1,w2) in model:\n",
    "        tot_count=float(sum(model[(w1,w2)].values()))\n",
    "        for w3 in model[(w1,w2)]:\n",
    "            model[(w1,w2)][w3]+=k\n",
    "            model[(w1,w2)][w3]/=(tot_count+k*unique_trigrams_num)\n",
    "     \n",
    "    return model\n"
   ]
  },
  {
   "cell_type": "code",
   "execution_count": 8,
   "metadata": {},
   "outputs": [],
   "source": [
    "def get_test_sentences(filename='test_examples.txt'):\n",
    "    sents=list()\n",
    "    with open(filename,'r') as f:\n",
    "        for line in f:\n",
    "            sents.append(line)\n",
    "        f.close()\n",
    "    return preprocess_sents(sents)"
   ]
  },
  {
   "cell_type": "code",
   "execution_count": 9,
   "metadata": {},
   "outputs": [],
   "source": [
    "def laplacian_unigram_model(w1,unigram_counts,k,N):\n",
    "    return np.log( ( (k+unigram_counts.get(w1,0))/(k*V+N) )  )\n",
    "def laplacian_bigram_model(w1,w2,bigram_counts,unigram_counts,k,V):\n",
    "    return np.log( ( (k+bigram_counts.get((w1,w2),0))/(k*V+unigram_counts.get(w1,0)) )  )\n",
    "\n",
    "def laplacian_trigram_model(w1,w2,w3,k):\n",
    "    return np.log( ( (k+trigram_counts.get((w1,w2,w3),0))/(k*V+bigram_counts.get((w1,w2),0)) )  )"
   ]
  },
  {
   "cell_type": "markdown",
   "metadata": {},
   "source": [
    "### Getting the sentences from the Brown corpus"
   ]
  },
  {
   "cell_type": "code",
   "execution_count": 10,
   "metadata": {},
   "outputs": [],
   "source": [
    "sents=get_sentences(40000)            # Get 40k sentences from the Brown corpus as mentioned in assignment\n",
    "sents=preprocess_sents(sents)"
   ]
  },
  {
   "cell_type": "code",
   "execution_count": 11,
   "metadata": {},
   "outputs": [
    {
     "name": "stdout",
     "output_type": "stream",
     "text": [
      "the fulton county grand jury said friday an investigation of atlanta s recent primary election produced no evidence that any irregularities took place \n",
      "the jury further said in term end presentments that the city executive committee which had over all charge of the election deserves the praise and thanks of the city of atlanta for the manner in which the election was conducted \n",
      "the september october term jury had been charged by fulton superior court judge durwood pye to investigate reports of possible irregularities in the hard fought primary which was won by mayor nominate ivan allen jr \n",
      " only a relative handful of such reports was received the jury said considering the widespread interest in the election the number of voters and the size of this city \n",
      "the jury said it did find that many of georgia s registration and election laws are outmoded or inadequate and often ambiguous \n",
      "it recommended that fulton legislators act to have these laws studied and revised to the end of modernizing and improving them \n",
      "the grand jury commented on a number of other topics among them the atlanta and fulton county purchasing departments which it said are well operated and follow generally accepted practices which inure to the best interest of both governments \n",
      "merger proposed\n",
      "however the jury said it believes these two offices should be combined to achieve greater efficiency and reduce the cost of administration \n",
      "the city purchasing department the jury said is lacking in experienced clerical personnel as a result of city personnel policies \n"
     ]
    }
   ],
   "source": [
    "for sent in sents[:10]:\n",
    "    print(sent)"
   ]
  },
  {
   "cell_type": "markdown",
   "metadata": {},
   "source": [
    "## Creating the Language Models"
   ]
  },
  {
   "cell_type": "code",
   "execution_count": 12,
   "metadata": {},
   "outputs": [],
   "source": [
    "unigram_counts,unigram_freq,unigram_total=unigram_LM(sents)  # create the n-gram models without smoothing\n",
    "bigram_LM= bigram_model(sents)\n",
    "trigram_LM= trigram_model(sents)"
   ]
  },
  {
   "cell_type": "markdown",
   "metadata": {},
   "source": [
    "## Verifying Zipf's Law"
   ]
  },
  {
   "cell_type": "code",
   "execution_count": 13,
   "metadata": {},
   "outputs": [
    {
     "name": "stdout",
     "output_type": "stream",
     "text": [
      "Slope of best-fit line:  -1.166736034411795 , Intercept:  11.838045961079029\n"
     ]
    },
    {
     "data": {
      "image/png": "[encoded data removed]",
      "text/plain": [
       "<Figure size 432x288 with 1 Axes>"
      ]
     },
     "metadata": {},
     "output_type": "display_data"
    }
   ],
   "source": [
    "lis=[y[1] for y in unigram_counts.most_common()]\n",
    "lis=np.flip(np.unique(lis),0)\n",
    "lis=lis[:(int)(0.85*len(lis))]\n",
    "x=[np.log(i+1) for i in range(len(lis))]\n",
    "y=np.asarray(list(np.log(y) for y in lis))\n",
    "plot(x,y,'Unigram LM Plot')\n",
    "sorted_unigram_counts=sorted(unigram_counts.items(), key=operator.itemgetter(1),reverse=True)"
   ]
  },
  {
   "cell_type": "code",
   "execution_count": 14,
   "metadata": {},
   "outputs": [],
   "source": [
    "bigram_counts={}\n",
    "for sent in sents:\n",
    "    for w in ngrams(sent.split(),2, pad_left=True,pad_right=True,left_pad_symbol='<s>',right_pad_symbol='</s>'):\n",
    "        if(w not in bigram_counts):\n",
    "            bigram_counts[w]=1\n",
    "        else:\n",
    "            bigram_counts[w]+=1\n",
    "\n",
    "\n",
    "sorted_bigram_counts=sorted(bigram_counts.items(), key=operator.itemgetter(1),reverse=True)"
   ]
  },
  {
   "cell_type": "code",
   "execution_count": 15,
   "metadata": {},
   "outputs": [
    {
     "name": "stdout",
     "output_type": "stream",
     "text": [
      "Slope of best-fit line:  -0.9606201477375457 , Intercept:  9.790213310220958\n"
     ]
    },
    {
     "data": {
      "image/png": "[encoded data removed]",
      "text/plain": [
       "<Figure size 432x288 with 1 Axes>"
      ]
     },
     "metadata": {},
     "output_type": "display_data"
    }
   ],
   "source": [
    "len_bigrams=len(sorted_bigram_counts)\n",
    "lis=[y[1] for y in sorted_bigram_counts]\n",
    "lis=np.flip(np.unique(lis),0)\n",
    "lis=lis[:(int)(0.9*len(lis))]\n",
    "x=[np.log(i+1) for i in range(len(lis))]\n",
    "y=np.asarray(list(np.log(y) for y in lis))\n",
    "plot(x,y,'Bigram LM Plot')"
   ]
  },
  {
   "cell_type": "code",
   "execution_count": 16,
   "metadata": {},
   "outputs": [],
   "source": [
    "trigram_counts={}\n",
    "for sent in sents:\n",
    "    for w in ngrams(sent.split(),3, pad_left=True,pad_right=True,left_pad_symbol='<s>',right_pad_symbol='</s>'):\n",
    "        if(w not in trigram_counts):\n",
    "            trigram_counts[w]=1\n",
    "        else:\n",
    "            trigram_counts[w]+=1\n",
    "\n",
    "\n",
    "\n",
    "sorted_trigram_counts=sorted(trigram_counts.items(), key=operator.itemgetter(1),reverse=True)"
   ]
  },
  {
   "cell_type": "code",
   "execution_count": 17,
   "metadata": {},
   "outputs": [
    {
     "name": "stdout",
     "output_type": "stream",
     "text": [
      "Slope of best-fit line:  -1.0414259733873539 , Intercept:  9.008746176389943\n"
     ]
    },
    {
     "data": {
      "image/png": "[encoded data removed]",
      "text/plain": [
       "<Figure size 432x288 with 1 Axes>"
      ]
     },
     "metadata": {},
     "output_type": "display_data"
    }
   ],
   "source": [
    "lis=[y[1] for y in sorted_trigram_counts]\n",
    "lis=np.flip(np.unique(lis),0)\n",
    "lis=lis[:(int)(0.9*len(lis))]\n",
    "x=[np.log(i+1) for i in range(len(lis))]\n",
    "y=np.asarray(list(np.log(y) for y in lis))\n",
    "plot(x,y,'Trigram LM Plot')"
   ]
  },
  {
   "cell_type": "code",
   "execution_count": 18,
   "metadata": {},
   "outputs": [
    {
     "data": {
      "text/plain": [
       "[('the', 56474),\n",
       " ('of', 31329),\n",
       " ('and', 22154),\n",
       " ('to', 20413),\n",
       " ('a', 17918),\n",
       " ('in', 17766),\n",
       " ('is', 9474),\n",
       " ('that', 8306),\n",
       " ('for', 7797),\n",
       " ('it', 6198),\n",
       " ('was', 5967)]"
      ]
     },
     "execution_count": 18,
     "metadata": {},
     "output_type": "execute_result"
    }
   ],
   "source": [
    "sorted_unigram_counts[:11]"
   ]
  },
  {
   "cell_type": "code",
   "execution_count": 19,
   "metadata": {},
   "outputs": [
    {
     "data": {
      "text/plain": [
       "[(('of', 'the'), 8512),\n",
       " (('in', 'the'), 4986),\n",
       " (('to', 'the'), 2820),\n",
       " (('and', 'the'), 1848),\n",
       " (('on', 'the'), 1829),\n",
       " (('for', 'the'), 1592),\n",
       " (('it', 'is'), 1390),\n",
       " (('to', 'be'), 1377),\n",
       " (('with', 'the'), 1261),\n",
       " (('that', 'the'), 1243)]"
      ]
     },
     "execution_count": 19,
     "metadata": {},
     "output_type": "execute_result"
    }
   ],
   "source": [
    "tmp=[p for p in sorted_bigram_counts if p[0][0]!='<s>' and p[0][1]!='<s>']\n",
    "tmp[:10]"
   ]
  },
  {
   "cell_type": "code",
   "execution_count": 20,
   "metadata": {},
   "outputs": [
    {
     "data": {
      "text/plain": [
       "[(('one', 'of', 'the'), 337),\n",
       " (('the', 'united', 'states'), 336),\n",
       " (('as', 'well', 'as'), 225),\n",
       " (('some', 'of', 'the'), 156),\n",
       " (('the', 'fact', 'that'), 154),\n",
       " (('part', 'of', 'the'), 131),\n",
       " (('of', 'the', 'united'), 127),\n",
       " (('the', 'u', 's'), 126),\n",
       " (('it', 'is', 'not'), 126),\n",
       " (('a', 'number', 'of'), 118)]"
      ]
     },
     "execution_count": 20,
     "metadata": {},
     "output_type": "execute_result"
    }
   ],
   "source": [
    "tmp=[p for p in sorted_trigram_counts if p[0][0]!='<s>' and  p[0][1]!='</s>' and  p[0][2]!='</s>' ]\n",
    "tmp[:10]"
   ]
  },
  {
   "cell_type": "markdown",
   "metadata": {},
   "source": [
    "## Testing (without smoothing)"
   ]
  },
  {
   "cell_type": "code",
   "execution_count": 21,
   "metadata": {},
   "outputs": [
    {
     "name": "stdout",
     "output_type": "stream",
     "text": [
      "Please input the name of the test file\n",
      "test_examples.txt\n"
     ]
    }
   ],
   "source": [
    "print('Please input the name of the test file')\n",
    "filename=input()                        # enter the name of the test file\n",
    "test_sents=get_test_sentences(filename)  # Gettting the test sentences"
   ]
  },
  {
   "cell_type": "code",
   "execution_count": 22,
   "metadata": {},
   "outputs": [
    {
     "name": "stdout",
     "output_type": "stream",
     "text": [
      "Unigram test Log-likelihood without smoothing: \n",
      "\n",
      "The sequence \"he lived a good life  \" has unigram log likelihood of -32.62 and perplexity 229.54\n",
      "The sequence \"the man was happy  \" has unigram log likelihood of -23.9 and perplexity 119.04\n",
      "The sequence \"the person was good  \" has unigram log likelihood of -23.33 and perplexity 106.2\n",
      "The sequence \"the girl was sad  \" has unigram log likelihood of -27.22 and perplexity 231.47\n",
      "The sequence \"he won the war \" has unigram log likelihood of -24.11 and perplexity 124.14\n"
     ]
    }
   ],
   "source": [
    "test_unigram_arr=[]                      # Log-likelihood and Perplexity for Unigram Model without smoothing\n",
    "print('Unigram test Log-likelihood without smoothing: ')\n",
    "print()\n",
    "for sent in test_sents:\n",
    "    try:\n",
    "        p_val=np.sum([np.log(unigram_freq[word]) for word in sent.split()])\n",
    "    except Exception as e:\n",
    "        p_val=-np.inf\n",
    "    test_unigram_arr.append(p_val)\n",
    "    N=len(sent.split())+1                    # +1 to account for </s> token as suggested by Jurafsky et. al\n",
    "    if(p_val!=(-np.inf)):\n",
    "        prob=np.exp(p_val)\n",
    "        perplexity=1/(np.power(prob,(1.0/N)))\n",
    "    else:\n",
    "        perplexity=np.inf\n",
    "    print('The sequence \\\"'+sent+' \\\" has unigram log likelihood of '+ str(round(p_val,2))+' and perplexity '+str(round(perplexity,2)))\n",
    "    test_unigram_arr.append(p_val)"
   ]
  },
  {
   "cell_type": "code",
   "execution_count": 23,
   "metadata": {},
   "outputs": [
    {
     "name": "stdout",
     "output_type": "stream",
     "text": [
      "Bigram Model without smoothing\n",
      "The sequence \"he lived a good life \" has bigram log likelihood of -26.89 and perplexity 88.33\n",
      "The sequence \"the man was happy \" has bigram log likelihood of -22.06 and perplexity 82.46\n",
      "The sequence \"the person was good \" has bigram log likelihood of -24.84 and perplexity 143.74\n",
      "The sequence \"the girl was sad \" has bigram log likelihood of -inf and perplexity inf\n",
      "The sequence \"he won the war\" has bigram log likelihood of -20.08 and perplexity 55.47\n"
     ]
    }
   ],
   "source": [
    "test_bigram_arr=[]\n",
    "print('Bigram Model without smoothing')\n",
    "for sent in test_sents:\n",
    "    p_val=0\n",
    "    for w1,w2 in bigrams(sent.split(),pad_left=True,pad_right=True,left_pad_symbol='<s>',right_pad_symbol='</s>'):\n",
    "        if w1 in bigram_LM:\n",
    "            try:\n",
    "                p_val+=np.log(bigram_LM[w1][w2])\n",
    "            except Exception as e:\n",
    "                p_val=-np.inf\n",
    "                break\n",
    "        else:\n",
    "            p_val=-np.inf\n",
    "            break\n",
    "    N=len(sent.split())+1                    # +1 to account for </s> token as suggested by Jurafsky et. al.\n",
    "    if(p_val!=(-np.inf)):\n",
    "        prob=np.exp(p_val)\n",
    "        perplexity=1/(np.power(prob,(1.0/N)))\n",
    "    else:\n",
    "        perplexity=np.inf\n",
    "    print('The sequence \\\"'+ sent +'\\\" has bigram log likelihood of '+ str(round(p_val,2))+' and perplexity '+str(round(perplexity,2)))\n",
    "    test_bigram_arr.append(p_val)"
   ]
  },
  {
   "cell_type": "code",
   "execution_count": 24,
   "metadata": {},
   "outputs": [
    {
     "name": "stdout",
     "output_type": "stream",
     "text": [
      "Trigram model without smoothing: \n",
      "The sequence \"he lived a good life \" has trigram log likelihood of -inf and perplexity inf\n",
      "The sequence \"the man was happy \" has trigram log likelihood of -inf and perplexity inf\n",
      "The sequence \"the person was good \" has trigram log likelihood of -inf and perplexity inf\n",
      "The sequence \"the girl was sad \" has trigram log likelihood of -inf and perplexity inf\n",
      "The sequence \"he won the war\" has trigram log likelihood of -16.52 and perplexity 27.22\n"
     ]
    }
   ],
   "source": [
    "test_trigram_arr=[]\n",
    "print('Trigram model without smoothing: ')\n",
    "for sent in test_sents:\n",
    "    p_val=0\n",
    "    for w1,w2,w3 in trigrams(sent.split(),pad_left=True,pad_right=True,left_pad_symbol='<s>',right_pad_symbol='</s>'):\n",
    "        try:\n",
    "            p_val+=np.log(trigram_LM[(w1,w2)][w3])\n",
    "        except Exception as e:\n",
    "            p_val=-np.inf\n",
    "            break\n",
    "    N=len(sent.split())+1                    # +1 to account for </s> token as suggested by Jurafsky et. al.\n",
    "    if(p_val!=(-np.inf)):\n",
    "        prob=np.exp(p_val)\n",
    "        perplexity=1/(np.power(prob,(1.0/N)))\n",
    "    else:\n",
    "        perplexity=np.inf\n",
    "    print('The sequence \\\"'+ sent +'\\\" has trigram log likelihood of '+str(round(p_val,2))+' and perplexity '+str(round(perplexity,2)))    \n",
    "    test_trigram_arr.append(p_val)"
   ]
  },
  {
   "cell_type": "markdown",
   "metadata": {},
   "source": [
    "## Laplace/ Additive Smoothing"
   ]
  },
  {
   "cell_type": "code",
   "execution_count": 25,
   "metadata": {},
   "outputs": [],
   "source": [
    "unigram_counts['<s>']=len(sents)\n",
    "k_list=[pow(10,i) for i in range(-4,1)]\n",
    "V=len(unigram_counts.values())"
   ]
  },
  {
   "cell_type": "code",
   "execution_count": 26,
   "metadata": {
    "scrolled": true
   },
   "outputs": [
    {
     "name": "stdout",
     "output_type": "stream",
     "text": [
      "Unigram test log likelihood with Laplacian/ Additive Smoothing with k as 0.0001 : \n",
      "\n",
      "The sequence \"he lived a good life \" has unigram log likelihood of -32.62 and perplexity 229.54\n",
      "The sequence \"the man was happy \" has unigram log likelihood of -23.9 and perplexity 119.04\n",
      "The sequence \"the person was good \" has unigram log likelihood of -23.33 and perplexity 106.2\n",
      "The sequence \"the girl was sad \" has unigram log likelihood of -27.22 and perplexity 231.47\n",
      "The sequence \"he won the war\" has unigram log likelihood of -24.11 and perplexity 124.14\n",
      "\n",
      "\n",
      "Unigram test log likelihood with Laplacian/ Additive Smoothing with k as 0.001 : \n",
      "\n",
      "The sequence \"he lived a good life \" has unigram log likelihood of -32.62 and perplexity 229.54\n",
      "The sequence \"the man was happy \" has unigram log likelihood of -23.9 and perplexity 119.04\n",
      "The sequence \"the person was good \" has unigram log likelihood of -23.33 and perplexity 106.21\n",
      "The sequence \"the girl was sad \" has unigram log likelihood of -27.22 and perplexity 231.48\n",
      "The sequence \"he won the war\" has unigram log likelihood of -24.11 and perplexity 124.14\n",
      "\n",
      "\n",
      "Unigram test log likelihood with Laplacian/ Additive Smoothing with k as 0.01 : \n",
      "\n",
      "The sequence \"he lived a good life \" has unigram log likelihood of -32.62 and perplexity 229.62\n",
      "The sequence \"the man was happy \" has unigram log likelihood of -23.9 and perplexity 119.08\n",
      "The sequence \"the person was good \" has unigram log likelihood of -23.33 and perplexity 106.24\n",
      "The sequence \"the girl was sad \" has unigram log likelihood of -27.22 and perplexity 231.53\n",
      "The sequence \"he won the war\" has unigram log likelihood of -24.11 and perplexity 124.18\n",
      "\n",
      "\n",
      "Unigram test log likelihood with Laplacian/ Additive Smoothing with k as 0.1 : \n",
      "\n",
      "The sequence \"he lived a good life \" has unigram log likelihood of -32.64 and perplexity 230.35\n",
      "The sequence \"the man was happy \" has unigram log likelihood of -23.91 and perplexity 119.44\n",
      "The sequence \"the person was good \" has unigram log likelihood of -23.34 and perplexity 106.58\n",
      "The sequence \"the girl was sad \" has unigram log likelihood of -27.23 and perplexity 232.02\n",
      "The sequence \"he won the war\" has unigram log likelihood of -24.12 and perplexity 124.57\n",
      "\n",
      "\n",
      "Unigram test log likelihood with Laplacian/ Additive Smoothing with k as 1 : \n",
      "\n",
      "The sequence \"he lived a good life \" has unigram log likelihood of -32.82 and perplexity 237.64\n",
      "The sequence \"the man was happy \" has unigram log likelihood of -24.06 and perplexity 122.99\n",
      "The sequence \"the person was good \" has unigram log likelihood of -23.5 and perplexity 109.94\n",
      "The sequence \"the girl was sad \" has unigram log likelihood of -27.34 and perplexity 236.85\n",
      "The sequence \"he won the war\" has unigram log likelihood of -24.28 and perplexity 128.42\n",
      "\n",
      "\n"
     ]
    }
   ],
   "source": [
    "test_uniigram_arr=[]\n",
    "for k in k_list:\n",
    "    print('Unigram test log likelihood with Laplacian/ Additive Smoothing with k as',k,': \\n')\n",
    "    for sent in test_sents:\n",
    "        p_val=0\n",
    "        for w1 in sent.split():\n",
    "            p_val+=laplacian_unigram_model(w1,unigram_counts,k,unigram_total)\n",
    "        N=len(sent.split())+1                    # +1 to account for </s> token as suggested by Jurafsky et. al.\n",
    "        if(p_val!=(-np.inf)):\n",
    "            prob=np.exp(p_val)\n",
    "            perplexity=1/(np.power(prob,(1.0/N)))\n",
    "        else:\n",
    "            perplexity=np.inf\n",
    "        print('The sequence \\\"'+ sent +'\\\" has unigram log likelihood of '+ str(round(p_val,2))+' and perplexity '+str(round(perplexity,2)))\n",
    "        test_unigram_arr.append(p_val)\n",
    "    print(\"\\n\")\n",
    "    "
   ]
  },
  {
   "cell_type": "code",
   "execution_count": 27,
   "metadata": {},
   "outputs": [
    {
     "name": "stdout",
     "output_type": "stream",
     "text": [
      "Bigram test log likelihood with Laplacian/ Additive Smoothing with k as 0.0001 : \n",
      "The sequence \"he lived a good life \" has bigram log likelihood of -26.96 and perplexity 89.36\n",
      "The sequence \"the man was happy \" has bigram log likelihood of -22.13 and perplexity 83.56\n",
      "The sequence \"the person was good \" has bigram log likelihood of -24.87 and perplexity 144.68\n",
      "The sequence \"the girl was sad \" has bigram log likelihood of -34.43 and perplexity 978.81\n",
      "The sequence \"he won the war\" has bigram log likelihood of -20.12 and perplexity 55.97\n",
      "\n",
      "\n",
      "Bigram test log likelihood with Laplacian/ Additive Smoothing with k as 0.001 : \n",
      "The sequence \"he lived a good life \" has bigram log likelihood of -27.47 and perplexity 97.38\n",
      "The sequence \"the man was happy \" has bigram log likelihood of -22.6 and perplexity 91.87\n",
      "The sequence \"the person was good \" has bigram log likelihood of -25.14 and perplexity 152.63\n",
      "The sequence \"the girl was sad \" has bigram log likelihood of -33.36 and perplexity 790.43\n",
      "The sequence \"he won the war\" has bigram log likelihood of -20.47 and perplexity 60.01\n",
      "\n",
      "\n",
      "Bigram test log likelihood with Laplacian/ Additive Smoothing with k as 0.01 : \n",
      "The sequence \"he lived a good life \" has bigram log likelihood of -29.84 and perplexity 144.48\n",
      "The sequence \"the man was happy \" has bigram log likelihood of -24.49 and perplexity 134.01\n",
      "The sequence \"the person was good \" has bigram log likelihood of -26.67 and perplexity 207.15\n",
      "The sequence \"the girl was sad \" has bigram log likelihood of -34.31 and perplexity 954.8\n",
      "The sequence \"he won the war\" has bigram log likelihood of -22.29 and perplexity 86.27\n",
      "\n",
      "\n",
      "Bigram test log likelihood with Laplacian/ Additive Smoothing with k as 0.1 : \n",
      "The sequence \"he lived a good life \" has bigram log likelihood of -35.5 and perplexity 371.12\n",
      "The sequence \"the man was happy \" has bigram log likelihood of -28.49 and perplexity 298.47\n",
      "The sequence \"the person was good \" has bigram log likelihood of -30.6 and perplexity 455.03\n",
      "The sequence \"the girl was sad \" has bigram log likelihood of -36.81 and perplexity 1575.99\n",
      "The sequence \"he won the war\" has bigram log likelihood of -26.59 and perplexity 203.78\n",
      "\n",
      "\n",
      "Bigram test log likelihood with Laplacian/ Additive Smoothing with k as 1 : \n",
      "The sequence \"he lived a good life \" has bigram log likelihood of -43.82 and perplexity 1485.99\n",
      "The sequence \"the man was happy \" has bigram log likelihood of -34.95 and perplexity 1084.75\n",
      "The sequence \"the person was good \" has bigram log likelihood of -36.66 and perplexity 1528.53\n",
      "The sequence \"the girl was sad \" has bigram log likelihood of -40.8 and perplexity 3497.22\n",
      "The sequence \"he won the war\" has bigram log likelihood of -33.43 and perplexity 801.45\n",
      "\n",
      "\n"
     ]
    }
   ],
   "source": [
    "test_bigram_arr=[]\n",
    "for k in k_list:\n",
    "\n",
    "    print('Bigram test log likelihood with Laplacian/ Additive Smoothing with k as',k,': ')\n",
    "    for sent in test_sents:\n",
    "        p_val=0\n",
    "        for w1,w2 in bigrams(sent.split(),pad_left=True,pad_right=True,left_pad_symbol='<s>',right_pad_symbol='</s>'):\n",
    "            p_val+=laplacian_bigram_model(w1,w2,bigram_counts,unigram_counts,k,V)\n",
    "        N=len(sent.split())+1                    # +1 to account for </s> token as suggested by Jurafsky et. al.\n",
    "        if(p_val!=(-np.inf)):\n",
    "            prob=np.exp(p_val)\n",
    "            perplexity=1/(np.power(prob,(1.0/N)))\n",
    "        else:\n",
    "            perplexity=np.inf\n",
    "        print('The sequence \\\"'+ sent +'\\\" has bigram log likelihood of '+ str(round(p_val,2))+' and perplexity '+str(round(perplexity,2)))\n",
    "        test_bigram_arr.append(p_val)\n",
    "    print(\"\\n\")"
   ]
  },
  {
   "cell_type": "code",
   "execution_count": 28,
   "metadata": {},
   "outputs": [
    {
     "name": "stdout",
     "output_type": "stream",
     "text": [
      "Trigram test log likelihoods with Laplacian/ Additive Smoothing with k as 0.0001 : \n",
      "\n",
      "The sequence \"he lived a good life \" has trigram log likelihood of -38.41 and perplexity 602.76\n",
      "The sequence \"the man was happy \" has trigram log likelihood of -25.16 and perplexity 153.19\n",
      "The sequence \"the person was good \" has trigram log likelihood of -25.45 and perplexity 162.36\n",
      "The sequence \"the girl was sad \" has trigram log likelihood of -26.66 and perplexity 207.05\n",
      "The sequence \"he won the war\" has trigram log likelihood of -7.92 and perplexity 4.88\n",
      "\n",
      "\n",
      "Trigram test log likelihoods with Laplacian/ Additive Smoothing with k as 0.001 : \n",
      "\n",
      "The sequence \"he lived a good life \" has trigram log likelihood of -39.9 and perplexity 772.27\n",
      "The sequence \"the man was happy \" has trigram log likelihood of -27.39 and perplexity 239.14\n",
      "The sequence \"the person was good \" has trigram log likelihood of -28.34 and perplexity 289.62\n",
      "The sequence \"the girl was sad \" has trigram log likelihood of -31.56 and perplexity 551.35\n",
      "The sequence \"he won the war\" has trigram log likelihood of -13.31 and perplexity 14.32\n",
      "\n",
      "\n",
      "Trigram test log likelihoods with Laplacian/ Additive Smoothing with k as 0.01 : \n",
      "\n",
      "The sequence \"he lived a good life \" has trigram log likelihood of -44.29 and perplexity 1605.95\n",
      "The sequence \"the man was happy \" has trigram log likelihood of -32.76 and perplexity 700.94\n",
      "The sequence \"the person was good \" has trigram log likelihood of -34.16 and perplexity 926.99\n",
      "The sequence \"the girl was sad \" has trigram log likelihood of -38.12 and perplexity 2047.03\n",
      "The sequence \"he won the war\" has trigram log likelihood of -22.63 and perplexity 92.37\n",
      "\n",
      "\n",
      "Trigram test log likelihoods with Laplacian/ Additive Smoothing with k as 0.1 : \n",
      "\n",
      "The sequence \"he lived a good life \" has trigram log likelihood of -51.52 and perplexity 5360.54\n",
      "The sequence \"the man was happy \" has trigram log likelihood of -39.79 and perplexity 2859.31\n",
      "The sequence \"the person was good \" has trigram log likelihood of -41.23 and perplexity 3809.45\n",
      "The sequence \"the girl was sad \" has trigram log likelihood of -45.2 and perplexity 8432.04\n",
      "The sequence \"he won the war\" has trigram log likelihood of -34.57 and perplexity 1005.91\n",
      "\n",
      "\n",
      "Trigram test log likelihoods with Laplacian/ Additive Smoothing with k as 1 : \n",
      "\n",
      "The sequence \"he lived a good life \" has trigram log likelihood of -59.51 and perplexity 20302.7\n",
      "The sequence \"the man was happy \" has trigram log likelihood of -47.83 and perplexity 14282.46\n",
      "The sequence \"the person was good \" has trigram log likelihood of -48.74 and perplexity 17132.82\n",
      "The sequence \"the girl was sad \" has trigram log likelihood of -52.05 and perplexity 33193.74\n",
      "The sequence \"he won the war\" has trigram log likelihood of -46.42 and perplexity 10758.13\n",
      "\n",
      "\n"
     ]
    }
   ],
   "source": [
    "for k in k_list:\n",
    "    test_trigram_arr=[]\n",
    "    print('Trigram test log likelihoods with Laplacian/ Additive Smoothing with k as',k,': \\n')\n",
    "    for sent in test_sents:\n",
    "        p_val=0\n",
    "        for w1,w2,w3 in trigrams(sent.split(),pad_left=True,pad_right=True,left_pad_symbol='<s>',right_pad_symbol='</s>'):\n",
    "            p_val+=laplacian_trigram_model(w1,w2,w3,k)\n",
    "        N=len(sent.split())+1                    # +1 to account for </s> token as suggested by Jurafsky et. al.\n",
    "        if(p_val!=(-np.inf)):\n",
    "            prob=np.exp(p_val)\n",
    "            perplexity=1/(np.power(prob,(1.0/N)))\n",
    "        else:\n",
    "            perplexity=np.inf\n",
    "        print('The sequence \\\"'+ sent +'\\\" has trigram log likelihood of '+ str(round(p_val,2))+' and perplexity '+str(round(perplexity,2)))\n",
    "\n",
    "        test_trigram_arr.append(p_val)\n",
    "    print(\"\\n\")"
   ]
  },
  {
   "cell_type": "markdown",
   "metadata": {},
   "source": [
    "# Good Turing Smoothing"
   ]
  },
  {
   "cell_type": "code",
   "execution_count": 29,
   "metadata": {},
   "outputs": [],
   "source": [
    "def  build_N_counts_bigram(language_model):\n",
    "    global N_counts_bigram\n",
    "    global N_bigram\n",
    "    for key,value in language_model.items():\n",
    "        if value not in N_counts_bigram:\n",
    "            N_counts_bigram[value]=1\n",
    "        else:\n",
    "            N_counts_bigram[value]+=1\n",
    "    N_counts_bigram[0]=V*V-(len(language_model.keys()))            # Bigrams not seen\n",
    "\n",
    "    for key,value in N_counts_bigram.items():                      # Total number of bigrams\n",
    "        N_bigram+=(key*value)\n",
    "        \n",
    "def  build_N_counts_trigram(language_model):\n",
    "    global N_counts_trigram\n",
    "    global N_trigram\n",
    "    for key,value in language_model.items():\n",
    "        if value not in N_counts_trigram:\n",
    "            N_counts_trigram[value]=1\n",
    "        else:\n",
    "            N_counts_trigram[value]+=1\n",
    "\n",
    "    N_counts_trigram[0]=V*V*V-(len(language_model.keys()))          # Trigrams not seen\n",
    "    N_trigram=0\n",
    "    for key,value in N_counts_trigram.items():                      # Total number of trigrams\n",
    "        N_trigram+=(key*value)\n",
    "        \n",
    "def GoodTuring_bigram(k):       \n",
    "    GT_bigram=dict()\n",
    "    r_list=[r for r in bigram_counts.values()]\n",
    "    r_list=list(set(r_list))\n",
    "    for r in r_list:\n",
    "        GT_bigram[r]=P_GT_bigram_r(r,k)\n",
    "    GT_bigram[0]=P_GT_bigram_r(0,k)\n",
    "    prob_norm_sum=sum(GT_bigram.values())\n",
    "    for key in GT_bigram.keys():\n",
    "        GT_bigram[key]/=prob_norm_sum\n",
    "    return GT_bigram\n",
    "\n",
    "def P_GT_bigram(w1,w2):\n",
    "    r=bigram_counts.get((w1,w2),0)\n",
    "    return GT_bigram[r]\n",
    "def P_GT_bigram_r(r,k):\n",
    "    if(r>k):\n",
    "        return (r/N_bigram)\n",
    "    else:\n",
    "        numerator_first=(r+1)*(N_counts_bigram[r+1]/N_counts_bigram[r])\n",
    "        r_star=numerator_first\n",
    "        return (r_star/N_bigram)   \n",
    "    \n",
    "def GoodTuring_trigram(k):       \n",
    "    GT_trigram=dict()\n",
    "    r_list=[r for r in trigram_counts.values()]\n",
    "    r_list=list(set(r_list))\n",
    "    for r in r_list:\n",
    "        GT_trigram[r]=P_GT_trigram_r(r,k)\n",
    "    GT_trigram[0]=P_GT_trigram_r(0,k)\n",
    "    prob_norm_sum=sum(GT_trigram.values())\n",
    "    for key in GT_trigram.keys():\n",
    "        GT_trigram[key]/=prob_norm_sum\n",
    "    return GT_trigram\n",
    "\n",
    "def P_GT_trigram(w1,w2,w3):\n",
    "    r=trigram_counts.get((w1,w2,w3),0)\n",
    "    return GT_trigram[r]    \n",
    "\n",
    "def P_GT_trigram_r(r,k):\n",
    "    if(r>k):\n",
    "        return (r/N_trigram)\n",
    "    else:\n",
    "        numerator_first=(r+1)*(N_counts_trigram[r+1]/N_counts_trigram[r])\n",
    "        r_star=numerator_first\n",
    "        return (r_star/N_trigram)   \n",
    "    "
   ]
  },
  {
   "cell_type": "code",
   "execution_count": 30,
   "metadata": {},
   "outputs": [
    {
     "name": "stdout",
     "output_type": "stream",
     "text": [
      "Bigram model with Good Turing Smoothing\n",
      "The sequence \"he lived a good life \" has bigram log likelihood of -20.25 and perplexity 29.22\n",
      "The sequence \"the man was happy \" has bigram log likelihood of -15.42 and perplexity 21.86\n",
      "The sequence \"the person was good \" has bigram log likelihood of -19.3 and perplexity 47.45\n",
      "The sequence \"the girl was sad \" has bigram log likelihood of -27.58 and perplexity 248.87\n",
      "The sequence \"he won the war\" has bigram log likelihood of -13.07 and perplexity 13.66\n"
     ]
    }
   ],
   "source": [
    "k=5\n",
    "N_counts_bigram=dict()\n",
    "N_bigram=0\n",
    "build_N_counts_bigram(bigram_counts)\n",
    "GT_bigram=GoodTuring_bigram(k)\n",
    "N_counts_trigram=dict()\n",
    "N_trigram=0\n",
    "\n",
    "print('Bigram model with Good Turing Smoothing')\n",
    "unigram_freq['<s>']=unigram_counts['<s>']/V\n",
    "test_bigram_arr=[]\n",
    "k=10\n",
    "for sent in test_sents:\n",
    "    p_val=0\n",
    "    for w1,w2 in bigrams(sent.split(),pad_left=True,pad_right=True,left_pad_symbol='<s>',right_pad_symbol='</s>'):\n",
    "        try:\n",
    "            p_val+=np.log(P_GT_bigram(w1,w2)/unigram_freq.get(w1,0))\n",
    "        except Exception as e:\n",
    "            p_val=-np.inf\n",
    "            break\n",
    "    N=len(sent.split())+1                    # +1 to account for </s> token as suggested by Jurafsky et. al.\n",
    "    if(p_val!=(-np.inf)):\n",
    "        prob=np.exp(p_val)\n",
    "        perplexity=1/(np.power(prob,(1.0/N)))\n",
    "    else:\n",
    "        perplexity=np.inf\n",
    "    print('The sequence \\\"'+ sent +'\\\" has bigram log likelihood of '+str(round(p_val,2))+' and perplexity '+str(round(perplexity,2)))\n",
    "    test_bigram_arr.append(p_val)"
   ]
  },
  {
   "cell_type": "code",
   "execution_count": 31,
   "metadata": {},
   "outputs": [
    {
     "name": "stdout",
     "output_type": "stream",
     "text": [
      "Trigram model with Good Turing Smoothing: \n",
      "The sequence \"he lived a good life \" has trigram log likelihood of -51.85 and perplexity 5665.0\n",
      "The sequence \"the man was happy \" has trigram log likelihood of -32.73 and perplexity 697.1\n",
      "The sequence \"the person was good \" has trigram log likelihood of -34.15 and perplexity 925.72\n",
      "The sequence \"the girl was sad \" has trigram log likelihood of -inf and perplexity inf\n",
      "The sequence \"he won the war\" has trigram log likelihood of -2.65 and perplexity 1.7\n"
     ]
    }
   ],
   "source": [
    "build_N_counts_trigram(trigram_counts)\n",
    "GT_trigram=GoodTuring_trigram(k)\n",
    "\n",
    "test_trigram_arr=[]\n",
    "print('Trigram model with Good Turing Smoothing: ')\n",
    "for sent in test_sents:\n",
    "    p_val=0\n",
    "    for w1,w2,w3 in trigrams(sent.split(),pad_left=True,pad_right=True,left_pad_symbol='<s>',right_pad_symbol='</s>'):\n",
    "        try:\n",
    "            if (w1=='<s>' and w2=='<s>'):\n",
    "                p_val+=np.log(P_GT_trigram(w1,w2,w3)/(unigram_counts['<s>']/N_bigram))\n",
    "            else:\n",
    "                p_val+=np.log(P_GT_trigram(w1,w2,w3)/(bigram_counts.get((w1,w2),0)/N_bigram))\n",
    "        except Exception as e:\n",
    "            p_val=-np.inf\n",
    "            break\n",
    "    N=len(sent.split())+1                    # +1 to account for </s> token as suggested by Jurafsky et. al.\n",
    "    if(p_val!=(-np.inf)):\n",
    "        prob=np.exp(p_val)\n",
    "        perplexity=1/(np.power(prob,(1.0/N)))\n",
    "    else:\n",
    "        perplexity=np.inf\n",
    "    print('The sequence \\\"'+ sent +'\\\" has trigram log likelihood of '+ str(round(p_val,2))+' and perplexity '+str(round(perplexity,2)))\n",
    "    \n",
    "    test_trigram_arr.append(p_val)"
   ]
  },
  {
   "cell_type": "markdown",
   "metadata": {},
   "source": [
    "## Interpolation Models"
   ]
  },
  {
   "cell_type": "code",
   "execution_count": 32,
   "metadata": {},
   "outputs": [],
   "source": [
    "def interpolation_bigram(w1,w2,Lambda,bigram_counts,unigram_counts):\n",
    "    num_unigrams=len(unigram_counts.values())\n",
    "    if (w1 in unigram_counts):\n",
    "        probability= Lambda*((bigram_counts.get((w1,w2),0))/(unigram_counts.get(w1,0))) +(1-Lambda)*(unigram_counts.get(w2,0)/num_unigrams)\n",
    "    else:\n",
    "        print(w1)\n",
    "        return -np.inf\n",
    "    if(probability==0):\n",
    "        return -np.inf\n",
    "    else:\n",
    "        return np.log(probability)"
   ]
  },
  {
   "cell_type": "code",
   "execution_count": 33,
   "metadata": {},
   "outputs": [
    {
     "name": "stdout",
     "output_type": "stream",
     "text": [
      "Interpolation for Bigram Language Model: \n",
      "Bigram test log likelihoods with Interpolation with lambda as 0.2 : \n",
      "The sequence \"he lived a good life \" has bigram log likelihood of -21.22 and perplexity 34.36\n",
      "The sequence \"the man was happy \" has bigram log likelihood of -16.1 and perplexity 25.02\n",
      "The sequence \"the person was good \" has bigram log likelihood of -16.22 and perplexity 25.63\n",
      "The sequence \"the girl was sad \" has bigram log likelihood of -19.52 and perplexity 49.59\n",
      "The sequence \"he won the war\" has bigram log likelihood of -15.81 and perplexity 23.6\n",
      "\n",
      "\n",
      "Bigram test log likelihoods with Interpolation with lambda as 0.5 : \n",
      "The sequence \"he lived a good life \" has bigram log likelihood of -21.71 and perplexity 37.26\n",
      "The sequence \"the man was happy \" has bigram log likelihood of -16.67 and perplexity 28.03\n",
      "The sequence \"the person was good \" has bigram log likelihood of -16.99 and perplexity 29.89\n",
      "The sequence \"the girl was sad \" has bigram log likelihood of -20.27 and perplexity 57.59\n",
      "The sequence \"he won the war\" has bigram log likelihood of -16.15 and perplexity 25.29\n",
      "\n",
      "\n",
      "Bigram test log likelihoods with Interpolation with lambda as 0.8 : \n",
      "The sequence \"he lived a good life \" has bigram log likelihood of -23.47 and perplexity 49.97\n",
      "The sequence \"the man was happy \" has bigram log likelihood of -18.64 and perplexity 41.61\n",
      "The sequence \"the person was good \" has bigram log likelihood of -19.49 and perplexity 49.34\n",
      "The sequence \"the girl was sad \" has bigram log likelihood of -22.73 and perplexity 94.25\n",
      "The sequence \"he won the war\" has bigram log likelihood of -17.65 and perplexity 34.15\n",
      "\n",
      "\n"
     ]
    }
   ],
   "source": [
    "print(\"Interpolation for Bigram Language Model: \")\n",
    "test_bigram_arr=[]\n",
    "lambda_list=[0.2, 0.5, 0.8]                    # List of lamda to test on\n",
    "num_unique_bigrams=len(bigram_counts.values())\n",
    "for Lambda in lambda_list:\n",
    "\n",
    "    print('Bigram test log likelihoods with Interpolation with lambda as',Lambda,': ')\n",
    "    for sent in test_sents:\n",
    "        p_val=0\n",
    "        for w1,w2 in bigrams(sent.split(),pad_left=True,pad_right=True,left_pad_symbol='<s>',right_pad_symbol='</s>'):\n",
    "            p_val+=interpolation_bigram(w1,w2,Lambda,bigram_counts,unigram_counts)\n",
    "        N=len(sent.split())+1                    # +1 to account for </s> token as suggested by Jurafsky et. al.\n",
    "        if(p_val!=(-np.inf)):\n",
    "            prob=np.exp(p_val)\n",
    "            perplexity=1/(np.power(prob,(1.0/N)))\n",
    "        else:\n",
    "            perplexity=np.inf\n",
    "        print('The sequence \\\"'+ sent +'\\\" has bigram log likelihood of '+ str(round(p_val,2))+' and perplexity '+str(round(perplexity,2)))\n",
    "        test_bigram_arr.append(p_val)\n",
    "    print(\"\\n\")"
   ]
  }
 ],
 "metadata": {
  "kernelspec": {
   "display_name": "Python 2",
   "language": "python",
   "name": "python2"
  },
  "language_info": {
   "codemirror_mode": {
    "name": "ipython",
    "version": 3
   },
   "file_extension": ".py",
   "mimetype": "text/x-python",
   "name": "python",
   "nbconvert_exporter": "python",
   "pygments_lexer": "ipython3",
   "version": "3.6.5"
  }
 },
 "nbformat": 4,
 "nbformat_minor": 2
}

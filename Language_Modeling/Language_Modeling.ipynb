{
 "cells": [
  {
   "cell_type": "code",
   "execution_count": 395,
   "metadata": {},
   "outputs": [],
   "source": [
    "from __future__ import division\n",
    "import nltk\n",
    "import re\n",
    "import matplotlib.pyplot as plt\n",
    "import numpy as np\n",
    "from nltk.corpus import brown\n",
    "from nltk import bigrams, ngrams, trigrams \n",
    "from nltk.probability import FreqDist as FreqDist  \n",
    "from numpy.polynomial.polynomial import polyfit\n",
    "from collections import Counter\n",
    "from string import digits\n",
    "from scipy import stats\n",
    "import operator\n",
    "from collections import OrderedDict"
   ]
  },
  {
   "cell_type": "code",
   "execution_count": 396,
   "metadata": {},
   "outputs": [],
   "source": [
    "def get_sentences(num_sentences):\n",
    "    sentences= brown.sents()[:num_sentences]\n",
    "    ret=[]\n",
    "    for sentence in sentences:\n",
    "        ret.append(' '.join(sentence))\n",
    "    return ret"
   ]
  },
  {
   "cell_type": "code",
   "execution_count": 397,
   "metadata": {},
   "outputs": [],
   "source": [
    "def preprocess_sents(sentences):\n",
    "    sentences = [sentence.lower() for sentence in sentences]\n",
    "    remove_digits = str.maketrans('', '', digits)\n",
    "    sentences = [sentence.translate(remove_digits)  for sentence in sentences]\n",
    "    sentences=[re.sub('\\W+',' ', sentence) for sentence in sentences]\n",
    "    return sentences"
   ]
  },
  {
   "cell_type": "code",
   "execution_count": 398,
   "metadata": {},
   "outputs": [],
   "source": [
    "def plot(x,y,Title=''):\n",
    "    x=np.asarray(x)\n",
    "    y=np.asarray(y)\n",
    "    #slope, intercept=polyfit(x, y, 1)\n",
    "    #plt.plot(x, intercept + slope*x, 'r', label='fitted line')\n",
    "    plt.plot(np.unique(x), np.poly1d(np.polyfit(x, y, 1))(np.unique(x)),'r', label='fitted line')\n",
    "    plt.plot(x,y,label='original data')\n",
    "    plt.title(Title)\n",
    "    plt.legend()\n",
    "    plt.show()"
   ]
  },
  {
   "cell_type": "code",
   "execution_count": 399,
   "metadata": {},
   "outputs": [],
   "source": [
    "def unigram_LM(sents):\n",
    "    unigrams=[]\n",
    "    for elem in sents:\n",
    "        unigrams.extend(elem.split())\n",
    "\n",
    "    unigram_counts=Counter(unigrams)\n",
    "    unique_unigrams=set(unigrams)\n",
    "    unigram_total=len(unigrams)\n",
    "    unigram_freq=dict()\n",
    "    for word in unigram_counts:\n",
    "        unigram_freq[word]=unigram_counts[word]/unigram_total\n",
    "\n",
    "    return unigram_counts,unigram_freq,unigram_total"
   ]
  },
  {
   "cell_type": "code",
   "execution_count": 400,
   "metadata": {},
   "outputs": [],
   "source": [
    "def bigram_model(sentences,k=0,unique_bigrams_num=0):\n",
    "    model={}\n",
    "    for sent in sentences:\n",
    "         for w1,w2 in ngrams(sent.split(),2, pad_left=True,pad_right=True,left_pad_symbol='<s>',right_pad_symbol='</s>'):\n",
    "            if w1 not in model:\n",
    "                model[w1]={}\n",
    "            if w2 not in model[w1]:\n",
    "                model[w1][w2]=0\n",
    "            model[w1][w2]+=1\n",
    "    for w1 in model:\n",
    "        tot_count=float(sum(model[w1].values()))\n",
    "        for w2 in model[w1]:\n",
    "            model[w1][w2]+=k\n",
    "            model[w1][w2]/=(tot_count+k*unique_bigrams_num)\n",
    "     \n",
    "    return model\n",
    "\n"
   ]
  },
  {
   "cell_type": "code",
   "execution_count": 401,
   "metadata": {},
   "outputs": [],
   "source": [
    "def trigram_model(sentences=0,k=0,unique_trigrams_num=0):\n",
    "    model={}\n",
    "    for sent in sentences:\n",
    "         for w1,w2,w3 in ngrams(sent.split(),3, pad_left=True,pad_right=True,left_pad_symbol='<s>',right_pad_symbol='</s>'):\n",
    "            if (w1,w2) not in model:\n",
    "                model[(w1,w2)]={}\n",
    "            if w3 not in model[(w1,w2)]:\n",
    "                model[(w1,w2)][w3]=0\n",
    "            model[(w1,w2)][w3]+=1\n",
    "    for (w1,w2) in model:\n",
    "        tot_count=float(sum(model[(w1,w2)].values()))\n",
    "        for w3 in model[(w1,w2)]:\n",
    "            model[(w1,w2)][w3]+=k\n",
    "            model[(w1,w2)][w3]/=(tot_count+k*unique_trigrams_num)\n",
    "     \n",
    "    return model\n"
   ]
  },
  {
   "cell_type": "code",
   "execution_count": 402,
   "metadata": {},
   "outputs": [],
   "source": [
    "def get_test_sentences(filename='test_examples.txt'):\n",
    "    sents=list()\n",
    "    with open(filename,'r') as f:\n",
    "        for line in f:\n",
    "            sents.append(line)\n",
    "        f.close()\n",
    "    return preprocess_sents(sents)"
   ]
  },
  {
   "cell_type": "code",
   "execution_count": 403,
   "metadata": {},
   "outputs": [],
   "source": [
    "def laplacian_unigram_model(w1,unigram_counts,k,N):\n",
    "    V=len(unigram_counts)\n",
    "    return np.log( ( (k+unigram_counts.get(w1,0))/(k*V+N) )  )\n",
    "def laplacian_bigram_model(w1,w2,bigram_counts,unigram_counts,k,V):\n",
    "    return np.log( ( (k+bigram_counts.get((w1,w2),0))/(k*V+unigram_counts.get(w1,0)) )  )\n",
    "\n",
    "def laplacian_trigram_model(w1,w2,w3,trigram_counts,bigram_counts,k):\n",
    "    return np.log( ( (k+trigram_counts.get((w1,w2,w3),0))/(k*V+bigram_counts.get((w1,w2),0)) )  )"
   ]
  },
  {
   "cell_type": "markdown",
   "metadata": {},
   "source": [
    "### Getting the sentences from the Brown corpus"
   ]
  },
  {
   "cell_type": "code",
   "execution_count": 404,
   "metadata": {},
   "outputs": [],
   "source": [
    "sents=get_sentences(40000)            # Get 40k sentences from the Brown corpus as mentioned in assignment\n",
    "sents=preprocess_sents(sents)"
   ]
  },
  {
   "cell_type": "code",
   "execution_count": 405,
   "metadata": {},
   "outputs": [
    {
     "name": "stdout",
     "output_type": "stream",
     "text": [
      "the fulton county grand jury said friday an investigation of atlanta s recent primary election produced no evidence that any irregularities took place \n",
      "the jury further said in term end presentments that the city executive committee which had over all charge of the election deserves the praise and thanks of the city of atlanta for the manner in which the election was conducted \n",
      "the september october term jury had been charged by fulton superior court judge durwood pye to investigate reports of possible irregularities in the hard fought primary which was won by mayor nominate ivan allen jr \n",
      " only a relative handful of such reports was received the jury said considering the widespread interest in the election the number of voters and the size of this city \n",
      "the jury said it did find that many of georgia s registration and election laws are outmoded or inadequate and often ambiguous \n",
      "it recommended that fulton legislators act to have these laws studied and revised to the end of modernizing and improving them \n",
      "the grand jury commented on a number of other topics among them the atlanta and fulton county purchasing departments which it said are well operated and follow generally accepted practices which inure to the best interest of both governments \n",
      "merger proposed\n",
      "however the jury said it believes these two offices should be combined to achieve greater efficiency and reduce the cost of administration \n",
      "the city purchasing department the jury said is lacking in experienced clerical personnel as a result of city personnel policies \n"
     ]
    }
   ],
   "source": [
    "for sent in sents[:10]:\n",
    "    print(sent)"
   ]
  },
  {
   "cell_type": "markdown",
   "metadata": {},
   "source": [
    "## Creating the Language Models"
   ]
  },
  {
   "cell_type": "code",
   "execution_count": 406,
   "metadata": {},
   "outputs": [],
   "source": [
    "unigram_counts,unigram_freq,unigram_total=unigram_LM(sents)\n",
    "bigram_LM= bigram_model(sents)\n",
    "trigram_LM= trigram_model(sents)"
   ]
  },
  {
   "cell_type": "markdown",
   "metadata": {},
   "source": [
    "## Verifying Zipf's Law"
   ]
  },
  {
   "cell_type": "code",
   "execution_count": 407,
   "metadata": {},
   "outputs": [
    {
     "data": {
      "image/png": "[encoded data removed]",
      "text/plain": [
       "<Figure size 432x288 with 1 Axes>"
      ]
     },
     "metadata": {},
     "output_type": "display_data"
    }
   ],
   "source": [
    "lis=[y[1] for y in unigram_counts.most_common()]\n",
    "lis=np.flip(np.unique(lis),0)\n",
    "x=[np.log(i+1) for i in range(len(lis))]\n",
    "y=np.asarray(list(np.log(y) for y in lis))\n",
    "plot(x,y,'Unigram LM Plot')\n",
    "sorted_unigram_counts=sorted(unigram_counts.items(), key=operator.itemgetter(1),reverse=True)"
   ]
  },
  {
   "cell_type": "code",
   "execution_count": 391,
   "metadata": {},
   "outputs": [],
   "source": [
    "bigram_counts={}\n",
    "for sent in sents:\n",
    "    for w in ngrams(sent.split(),2, pad_left=True,pad_right=True,left_pad_symbol='<s>',right_pad_symbol='</s>'):\n",
    "        if(w not in bigram_counts):\n",
    "            bigram_counts[w]=1\n",
    "        else:\n",
    "            bigram_counts[w]+=1\n",
    "\n",
    "\n",
    "sorted_bigram_counts=sorted(bigram_counts.items(), key=operator.itemgetter(1),reverse=True)"
   ]
  },
  {
   "cell_type": "code",
   "execution_count": 408,
   "metadata": {},
   "outputs": [
    {
     "data": {
      "image/png": "[encoded data removed]",
      "text/plain": [
       "<Figure size 432x288 with 1 Axes>"
      ]
     },
     "metadata": {},
     "output_type": "display_data"
    }
   ],
   "source": [
    "len_bigrams=len(sorted_bigram_counts)\n",
    "lis=[y[1] for y in sorted_bigram_counts]\n",
    "#lis=np.flip(np.unique(lis),0)\n",
    "x=[np.log(i+1) for i in range(len(lis))]\n",
    "y=np.asarray(list(np.log(y) for y in lis))\n",
    "plot(x,y,'Bigram LM Plot')"
   ]
  },
  {
   "cell_type": "code",
   "execution_count": 393,
   "metadata": {},
   "outputs": [],
   "source": [
    "trigram_counts={}\n",
    "for sent in sents:\n",
    "    for w in ngrams(sent.split(),3, pad_left=True,pad_right=True,left_pad_symbol='<s>',right_pad_symbol='</s>'):\n",
    "        if(w not in trigram_counts):\n",
    "            trigram_counts[w]=1\n",
    "        else:\n",
    "            trigram_counts[w]+=1\n",
    "\n",
    "\n",
    "\n",
    "sorted_trigram_counts=sorted(trigram_counts.items(), key=operator.itemgetter(1),reverse=True)"
   ]
  },
  {
   "cell_type": "code",
   "execution_count": 410,
   "metadata": {},
   "outputs": [
    {
     "data": {
      "image/png": "[encoded data removed]",
      "text/plain": [
       "<Figure size 432x288 with 1 Axes>"
      ]
     },
     "metadata": {},
     "output_type": "display_data"
    }
   ],
   "source": [
    "lis=[y[1] for y in sorted_trigram_counts]\n",
    "lis=np.flip(np.unique(lis),0)\n",
    "x=[np.log(i+1) for i in range(len(lis))]\n",
    "y=np.asarray(list(np.log(y) for y in lis))\n",
    "plot(x,y,'Trigram LM Plot')"
   ]
  },
  {
   "cell_type": "code",
   "execution_count": 340,
   "metadata": {},
   "outputs": [
    {
     "data": {
      "text/plain": [
       "[('the', 56474),\n",
       " ('<s>', 40000),\n",
       " ('of', 31329),\n",
       " ('and', 22154),\n",
       " ('to', 20413),\n",
       " ('a', 17918),\n",
       " ('in', 17766),\n",
       " ('is', 9474),\n",
       " ('that', 8306),\n",
       " ('for', 7797),\n",
       " ('it', 6198)]"
      ]
     },
     "execution_count": 340,
     "metadata": {},
     "output_type": "execute_result"
    }
   ],
   "source": [
    "sorted_unigram_counts[:11]"
   ]
  },
  {
   "cell_type": "code",
   "execution_count": 341,
   "metadata": {},
   "outputs": [
    {
     "data": {
      "text/plain": [
       "[(('of', 'the'), 8512),\n",
       " (('<s>', 'the'), 5798),\n",
       " (('in', 'the'), 4986),\n",
       " (('to', 'the'), 2820),\n",
       " (('and', 'the'), 1848),\n",
       " (('on', 'the'), 1829),\n",
       " (('for', 'the'), 1592),\n",
       " (('<s>', 'in'), 1585),\n",
       " (('<s>', 'it'), 1578),\n",
       " (('<s>', 'he'), 1403)]"
      ]
     },
     "execution_count": 341,
     "metadata": {},
     "output_type": "execute_result"
    }
   ],
   "source": [
    "sorted_bigram_counts[:10]"
   ]
  },
  {
   "cell_type": "code",
   "execution_count": 342,
   "metadata": {},
   "outputs": [
    {
     "data": {
      "text/plain": [
       "[(('<s>', '<s>', 'the'), 5798),\n",
       " (('<s>', '<s>', 'in'), 1585),\n",
       " (('<s>', '<s>', 'it'), 1578),\n",
       " (('<s>', '<s>', 'he'), 1403),\n",
       " (('<s>', '<s>', 'this'), 1052),\n",
       " (('<s>', '<s>', 'but'), 1038),\n",
       " (('<s>', '<s>', 'a'), 956),\n",
       " (('<s>', '<s>', 'and'), 831),\n",
       " (('<s>', '<s>', 'i'), 729),\n",
       " (('<s>', '<s>', 'they'), 614)]"
      ]
     },
     "execution_count": 342,
     "metadata": {},
     "output_type": "execute_result"
    }
   ],
   "source": [
    "sorted_trigram_counts[:10]"
   ]
  },
  {
   "cell_type": "markdown",
   "metadata": {},
   "source": [
    "## Testing (without smoothing)"
   ]
  },
  {
   "cell_type": "code",
   "execution_count": 343,
   "metadata": {},
   "outputs": [],
   "source": [
    "test_sents=get_test_sentences()"
   ]
  },
  {
   "cell_type": "code",
   "execution_count": 423,
   "metadata": {},
   "outputs": [
    {
     "name": "stdout",
     "output_type": "stream",
     "text": [
      "Unigram test Log likelihood: \n",
      "\n",
      "The sequence \"he lived a good life  \" has unigram log likelihood of -32.61637181331728and perplexity 680.8039387146354\n",
      "The sequence \"the man was happy  \" has unigram log likelihood of -23.897270970344053and perplexity 393.19974611595427\n",
      "The sequence \"the person was good  \" has unigram log likelihood of -23.326684213898012and perplexity 340.9279121019439\n",
      "The sequence \"the girl was sad  \" has unigram log likelihood of -27.222336320670067and perplexity 902.8749673127708\n",
      "The sequence \"he won the war \" has unigram log likelihood of -24.106951714822433and perplexity 414.3611467493952\n"
     ]
    }
   ],
   "source": [
    "test_unigram_arr=[]\n",
    "print('Unigram test Log likelihood: ')\n",
    "print()\n",
    "for sent in test_sents:\n",
    "    try:\n",
    "        p_val=np.sum([np.log(unigram_freq[word]) for word in sent.split()])\n",
    "    except Exception as e:\n",
    "        p_val=-np.inf\n",
    "    test_unigram_arr.append(p_val)\n",
    "    N=len(sent.split())\n",
    "    if(p_val!=(-np.inf)):\n",
    "        prob=np.exp(p_val)\n",
    "        perplexity=1/(np.power(prob,(1.0/N)))\n",
    "    else:\n",
    "        perplexity=np.inf\n",
    "    print('The sequence \\\"'+sent+' \\\" has unigram log likelihood of '+ str(p_val)+' and perplexity '+str(perplexity))\n"
   ]
  },
  {
   "cell_type": "code",
   "execution_count": 424,
   "metadata": {},
   "outputs": [
    {
     "name": "stdout",
     "output_type": "stream",
     "text": [
      "The sequence \"he lived a good life \" has bigram log likelihood of -26.88656843222555and perplexity 216.44006789086998\n",
      "The sequence \"the man was happy \" has bigram log likelihood of -22.06160121911623and perplexity 248.48942884658402\n",
      "The sequence \"the person was good \" has bigram log likelihood of -24.839981504247724and perplexity 497.6989499523649\n",
      "The sequence \"the girl was sad \" has bigram log likelihood of -infand perplexity inf\n",
      "The sequence \"he won the war\" has bigram log likelihood of -20.079546963054263and perplexity 151.3941560364868\n"
     ]
    }
   ],
   "source": [
    "test_bigram_arr=[]\n",
    "for sent in test_sents:\n",
    "    p_val=0\n",
    "    for w1,w2 in bigrams(sent.split(),pad_left=True,pad_right=True,left_pad_symbol='<s>',right_pad_symbol='</s>'):\n",
    "        if w1 in bigram_LM:\n",
    "            try:\n",
    "                p_val+=np.log(bigram_LM[w1][w2])\n",
    "            except Exception as e:\n",
    "                p_val=-np.inf\n",
    "                break\n",
    "        else:\n",
    "            p_val=-np.inf\n",
    "            break\n",
    "    N=len(sent.split())\n",
    "    if(p_val!=(-np.inf)):\n",
    "        prob=np.exp(p_val)\n",
    "        perplexity=1/(np.power(prob,(1.0/N)))\n",
    "    else:\n",
    "        perplexity=np.inf\n",
    "    print('The sequence \\\"'+ sent +'\\\" has bigram log likelihood of '+ str(p_val)+' and perplexity '+str(perplexity))\n",
    "    test_bigram_arr.append(p_val)"
   ]
  },
  {
   "cell_type": "code",
   "execution_count": 425,
   "metadata": {},
   "outputs": [
    {
     "name": "stdout",
     "output_type": "stream",
     "text": [
      "Trigram test log likelihood: \n",
      "The sequence \"he lived a good life \" has trigram log likelihood of -infand perplexity inf\n",
      "The sequence \"the man was happy \" has trigram log likelihood of -infand perplexity inf\n",
      "The sequence \"the person was good \" has trigram log likelihood of -infand perplexity inf\n",
      "The sequence \"the girl was sad \" has trigram log likelihood of -infand perplexity inf\n",
      "The sequence \"he won the war\" has trigram log likelihood of -16.519106408717104and perplexity 62.16403407370843\n"
     ]
    }
   ],
   "source": [
    "test_trigram_arr=[]\n",
    "print('Trigram test log likelihood: ')\n",
    "for sent in test_sents:\n",
    "    p_val=0\n",
    "    for w1,w2,w3 in trigrams(sent.split(),pad_left=True,pad_right=True,left_pad_symbol='<s>',right_pad_symbol='</s>'):\n",
    "        try:\n",
    "            p_val+=np.log(trigram_LM[(w1,w2)][w3])\n",
    "        except Exception as e:\n",
    "            p_val=-np.inf\n",
    "            break\n",
    "    N=len(sent.split())\n",
    "    if(p_val!=(-np.inf)):\n",
    "        prob=np.exp(p_val)\n",
    "        perplexity=1/(np.power(prob,(1.0/N)))\n",
    "    else:\n",
    "        perplexity=np.inf\n",
    "    print('The sequence \\\"'+ sent +'\\\" has trigram log likelihood of '+ str(p_val)+' and perplexity '+str(perplexity))\n",
    "    \n",
    "    test_trigram_arr.append(p_val)"
   ]
  },
  {
   "cell_type": "markdown",
   "metadata": {},
   "source": [
    "## Laplace/ Additive Smoothing"
   ]
  },
  {
   "cell_type": "code",
   "execution_count": 426,
   "metadata": {},
   "outputs": [],
   "source": [
    "unigram_counts['<s>']=len(sents)\n",
    "k_list=[pow(10,i) for i in range(-4,1)]\n",
    "V=len(unigram_counts.values())"
   ]
  },
  {
   "cell_type": "code",
   "execution_count": 427,
   "metadata": {},
   "outputs": [
    {
     "name": "stdout",
     "output_type": "stream",
     "text": [
      "Unigram test log likelihood with Laplacian/ Additive Smoothing with k as 0.0001 : \n",
      "\n",
      "The sequence \"he lived a good life \" has unigram log likelihood of -32.61639313195372 and perplexity 680.8068414831553\n",
      "The sequence \"the man was happy \" has unigram log likelihood of -23.897287718682307 and perplexity 393.2013924799883\n",
      "The sequence \"the person was good \" has unigram log likelihood of -23.326701919843288 and perplexity 340.9294212180225\n",
      "The sequence \"the girl was sad \" has unigram log likelihood of -27.222348042217277 and perplexity 902.8776130895359\n",
      "The sequence \"he won the war\" has unigram log likelihood of -24.10696910636703 and perplexity 414.3629483484023\n",
      "\n",
      "\n",
      "Unigram test log likelihood with Laplacian/ Additive Smoothing with k as 0.001 : \n",
      "\n",
      "The sequence \"he lived a good life \" has unigram log likelihood of -32.616584994926185 and perplexity 680.8329663092469\n",
      "The sequence \"the man was happy \" has unigram log likelihood of -23.897438449963843 and perplexity 393.21620969661143\n",
      "The sequence \"the person was good \" has unigram log likelihood of -23.32686126947842 and perplexity 340.9430032332762\n",
      "The sequence \"the girl was sad \" has unigram log likelihood of -27.222453533846164 and perplexity 902.9014249110506\n",
      "The sequence \"he won the war\" has unigram log likelihood of -24.107125626415982 and perplexity 414.379162692874\n",
      "\n",
      "\n",
      "Unigram test log likelihood with Laplacian/ Additive Smoothing with k as 0.01 : \n",
      "\n",
      "The sequence \"he lived a good life \" has unigram log likelihood of -32.618503153999825 and perplexity 681.0942056022867\n",
      "The sequence \"the man was happy \" has unigram log likelihood of -23.898945390387276 and perplexity 393.36437595495966\n",
      "The sequence \"the person was good \" has unigram log likelihood of -23.328454382588728 and perplexity 341.078820470088\n",
      "The sequence \"the girl was sad \" has unigram log likelihood of -27.22350822288793 and perplexity 903.1395263597068\n",
      "The sequence \"he won the war\" has unigram log likelihood of -24.10869044563903 and perplexity 414.54130152540455\n",
      "\n",
      "\n",
      "Unigram test log likelihood with Laplacian/ Additive Smoothing with k as 0.1 : \n",
      "\n",
      "The sequence \"he lived a good life \" has unigram log likelihood of -32.63763782733221 and perplexity 683.7057024555559\n",
      "The sequence \"the man was happy \" has unigram log likelihood of -23.913977673015335 and perplexity 394.845448317935\n",
      "The sequence \"the person was good \" has unigram log likelihood of -23.34434730857953 and perplexity 342.43670138403075\n",
      "The sequence \"the girl was sad \" has unigram log likelihood of -27.23403244731676 and perplexity 905.5188658414609\n",
      "The sequence \"he won the war\" has unigram log likelihood of -24.124300630051216 and perplexity 416.16222888088316\n",
      "\n",
      "\n",
      "Unigram test log likelihood with Laplacian/ Additive Smoothing with k as 1 : \n",
      "\n",
      "The sequence \"he lived a good life \" has unigram log likelihood of -32.82443552286539 and perplexity 709.7317662031151\n",
      "The sequence \"the man was happy \" has unigram log likelihood of -24.060701940188267 and perplexity 409.59771088379307\n",
      "The sequence \"the person was good \" has unigram log likelihood of -23.499571044936555 and perplexity 355.98648307264847\n",
      "The sequence \"the girl was sad \" has unigram log likelihood of -27.33706534282302 and perplexity 929.1464190498812\n",
      "The sequence \"he won the war\" has unigram log likelihood of -24.27671652063371 and perplexity 432.32565278808806\n",
      "\n",
      "\n"
     ]
    }
   ],
   "source": [
    "test_uniigram_arr=[]\n",
    "for k in k_list:\n",
    "    print('Unigram test log likelihood with Laplacian/ Additive Smoothing with k as',k,': \\n')\n",
    "    for sent in test_sents:\n",
    "        p_val=0\n",
    "        for w1 in sent.split():\n",
    "            p_val+=laplacian_unigram_model(w1,unigram_counts,k,unigram_total)\n",
    "        N=len(sent.split())\n",
    "        if(p_val!=(-np.inf)):\n",
    "            prob=np.exp(p_val)\n",
    "            perplexity=1/(np.power(prob,(1.0/N)))\n",
    "        else:\n",
    "            perplexity=np.inf\n",
    "        print('The sequence \\\"'+ sent +'\\\" has unigram log likelihood of '+ str(p_val)+' and perplexity '+str(perplexity))\n",
    "        test_unigram_arr.append(p_val)\n",
    "    print(\"\\n\")\n",
    "    "
   ]
  },
  {
   "cell_type": "code",
   "execution_count": 349,
   "metadata": {},
   "outputs": [
    {
     "name": "stdout",
     "output_type": "stream",
     "text": [
      "Bigram test probabilities with Laplacian/ Additive Smoothing with k as 0.0001 : \n",
      "The sequence \"he lived a good life \" has bigram probablity of -26.956115844462982\n",
      "The sequence \"the man was happy \" has bigram probablity of -22.128016928486232\n",
      "The sequence \"the person was good \" has bigram probablity of -24.87279365929685\n",
      "The sequence \"the girl was sad \" has bigram probablity of -34.43170756838363\n",
      "The sequence \"he won the war\" has bigram probablity of -20.123700434271637\n",
      "\n",
      "\n",
      "Bigram test probabilities with Laplacian/ Additive Smoothing with k as 0.001 : \n",
      "The sequence \"he lived a good life \" has bigram probablity of -27.471899994710714\n",
      "The sequence \"the man was happy \" has bigram probablity of -22.601935867047906\n",
      "The sequence \"the person was good \" has bigram probablity of -25.13996877695201\n",
      "The sequence \"the girl was sad \" has bigram probablity of -33.362882449445124\n",
      "The sequence \"he won the war\" has bigram probablity of -20.472866918268032\n",
      "\n",
      "\n",
      "Bigram test probabilities with Laplacian/ Additive Smoothing with k as 0.01 : \n",
      "The sequence \"he lived a good life \" has bigram probablity of -29.838657898578443\n",
      "The sequence \"the man was happy \" has bigram probablity of -24.489722757030027\n",
      "The sequence \"the person was good \" has bigram probablity of -26.667295209226506\n",
      "The sequence \"the girl was sad \" has bigram probablity of -34.307521229359814\n",
      "The sequence \"he won the war\" has bigram probablity of -22.287566802346593\n",
      "\n",
      "\n",
      "Bigram test probabilities with Laplacian/ Additive Smoothing with k as 0.1 : \n",
      "The sequence \"he lived a good life \" has bigram probablity of -35.49916929888791\n",
      "The sequence \"the man was happy \" has bigram probablity of -28.493351626432464\n",
      "The sequence \"the person was good \" has bigram probablity of -30.60185974421112\n",
      "The sequence \"the girl was sad \" has bigram probablity of -36.81317977023883\n",
      "The sequence \"he won the war\" has bigram probablity of -26.58523474520295\n",
      "\n",
      "\n",
      "Bigram test probabilities with Laplacian/ Additive Smoothing with k as 1 : \n",
      "The sequence \"he lived a good life \" has bigram probablity of -43.82301832751951\n",
      "The sequence \"the man was happy \" has bigram probablity of -34.94551881480757\n",
      "The sequence \"the person was good \" has bigram probablity of -36.66032503727415\n",
      "The sequence \"the girl was sad \" has bigram probablity of -40.79862254808145\n",
      "The sequence \"he won the war\" has bigram probablity of -33.43213771996903\n",
      "\n",
      "\n"
     ]
    }
   ],
   "source": [
    "test_bigram_arr=[]\n",
    "for k in k_list:\n",
    "\n",
    "    print('Bigram test log likelihood with Laplacian/ Additive Smoothing with k as',k,': ')\n",
    "    for sent in test_sents:\n",
    "        p_val=0\n",
    "        for w1,w2 in bigrams(sent.split(),pad_left=True,pad_right=True,left_pad_symbol='<s>',right_pad_symbol='</s>'):\n",
    "            p_val+=laplacian_bigram_model(w1,w2,bigram_counts,unigram_counts,k,V)\n",
    "        N=len(sent.split())\n",
    "        if(p_val!=(-np.inf)):\n",
    "            prob=np.exp(p_val)\n",
    "            perplexity=1/(np.power(prob,(1.0/N)))\n",
    "        else:\n",
    "            perplexity=np.inf\n",
    "        print('The sequence \\\"'+ sent +'\\\" has bigram log likelihood of '+ str(p_val)+' and perplexity '+str(perplexity))\n",
    "        test_bigram_arr.append(p_val)\n",
    "    print(\"\\n\")"
   ]
  },
  {
   "cell_type": "code",
   "execution_count": 350,
   "metadata": {},
   "outputs": [
    {
     "name": "stdout",
     "output_type": "stream",
     "text": [
      "Trigram test probabilities with Laplacian/ Additive Smoothing with k as 0.0001 : \n",
      "\n",
      "The sequence \"he lived a good life \" has trigram probablity of -38.40914951768351\n",
      "The sequence \"the man was happy \" has trigram probablity of -25.15853260252775\n",
      "The sequence \"the person was good \" has trigram probablity of -25.449195019067126\n",
      "The sequence \"the girl was sad \" has trigram probablity of -26.664911149636378\n",
      "The sequence \"he won the war\" has trigram probablity of -7.9230750719253775\n",
      "\n",
      "\n",
      "Trigram test probabilities with Laplacian/ Additive Smoothing with k as 0.001 : \n",
      "\n",
      "The sequence \"he lived a good life \" has trigram probablity of -39.89600612730909\n",
      "The sequence \"the man was happy \" has trigram probablity of -27.38527004305969\n",
      "The sequence \"the person was good \" has trigram probablity of -28.342864982279387\n",
      "The sequence \"the girl was sad \" has trigram probablity of -31.56188900404047\n",
      "The sequence \"he won the war\" has trigram probablity of -13.309857198931738\n",
      "\n",
      "\n",
      "Trigram test probabilities with Laplacian/ Additive Smoothing with k as 0.01 : \n",
      "\n",
      "The sequence \"he lived a good life \" has trigram probablity of -44.288821334750764\n",
      "The sequence \"the man was happy \" has trigram probablity of -32.76213633507265\n",
      "The sequence \"the person was good \" has trigram probablity of -34.15970151489256\n",
      "The sequence \"the girl was sad \" has trigram probablity of -38.120731028757284\n",
      "The sequence \"he won the war\" has trigram probablity of -22.629263798047766\n",
      "\n",
      "\n",
      "Trigram test probabilities with Laplacian/ Additive Smoothing with k as 0.1 : \n",
      "\n",
      "The sequence \"he lived a good life \" has trigram probablity of -51.52091762376059\n",
      "The sequence \"the man was happy \" has trigram probablity of -39.791670696157475\n",
      "The sequence \"the person was good \" has trigram probablity of -41.22620077599724\n",
      "The sequence \"the girl was sad \" has trigram probablity of -45.19897159062505\n",
      "The sequence \"he won the war\" has trigram probablity of -34.56822312240539\n",
      "\n",
      "\n",
      "Trigram test probabilities with Laplacian/ Additive Smoothing with k as 1 : \n",
      "\n",
      "The sequence \"he lived a good life \" has trigram probablity of -59.51105598037303\n",
      "The sequence \"the man was happy \" has trigram probablity of -47.83393661905358\n",
      "The sequence \"the person was good \" has trigram probablity of -48.743757426837014\n",
      "The sequence \"the girl was sad \" has trigram probablity of -52.05058234408199\n",
      "The sequence \"he won the war\" has trigram probablity of -46.4170860157693\n",
      "\n",
      "\n"
     ]
    }
   ],
   "source": [
    "for k in k_list:\n",
    "    test_trigram_arr=[]\n",
    "    print('Trigram test log likelihoods with Laplacian/ Additive Smoothing with k as',k,': \\n')\n",
    "    for sent in test_sents:\n",
    "        p_val=0\n",
    "        for w1,w2,w3 in trigrams(sent.split(),pad_left=True,pad_right=True,left_pad_symbol='<s>',right_pad_symbol='</s>'):\n",
    "            p_val+=laplacian_trigram_model(w1,w2,w3,trigram_counts,bigram_counts,k)\n",
    "        N=len(sent.split())\n",
    "        if(p_val!=(-np.inf)):\n",
    "            prob=np.exp(p_val)\n",
    "            perplexity=1/(np.power(prob,(1.0/N)))\n",
    "        else:\n",
    "            perplexity=np.inf\n",
    "        print('The sequence \\\"'+ sent +'\\\" has trigram log likelihood of '+ str(p_val)+' and perplexity '+str(perplexity))\n",
    "\n",
    "        test_trigram_arr.append(p_val)\n",
    "    print(\"\\n\")"
   ]
  },
  {
   "cell_type": "markdown",
   "metadata": {},
   "source": [
    "## Interpolation Models"
   ]
  },
  {
   "cell_type": "code",
   "execution_count": 351,
   "metadata": {},
   "outputs": [],
   "source": [
    "def interpolation_bigram(w1,w2,Lambda,bigram_counts,unigram_counts):\n",
    "    num_unigrams=len(unigram_counts.values())\n",
    "    if (w1 in unigram_counts):\n",
    "        probability= Lambda*((bigram_counts.get((w1,w2),0))/(unigram_counts.get(w1,0))) +(1-Lambda)*(unigram_counts.get(w2,0)/num_unigrams)\n",
    "    else:\n",
    "        print(w1)\n",
    "        return -np.inf\n",
    "    if(probability==0):\n",
    "        return -np.inf\n",
    "    else:\n",
    "        return np.log(probability)"
   ]
  },
  {
   "cell_type": "code",
   "execution_count": 352,
   "metadata": {},
   "outputs": [
    {
     "name": "stdout",
     "output_type": "stream",
     "text": [
      "Bigram test probabilities with Interpolation with lambda as 0.2 : \n",
      "The sequence \"he lived a good life \" has bigram probablity of -21.22206613167789\n",
      "The sequence \"the man was happy \" has bigram probablity of -16.0985514676804\n",
      "The sequence \"the person was good \" has bigram probablity of -16.218514874415803\n",
      "The sequence \"the girl was sad \" has bigram probablity of -19.51848178080951\n",
      "The sequence \"he won the war\" has bigram probablity of -15.807276922168901\n",
      "\n",
      "\n",
      "Bigram test probabilities with Interpolation with lambda as 0.5 : \n",
      "The sequence \"he lived a good life \" has bigram probablity of -21.70829104486406\n",
      "The sequence \"the man was happy \" has bigram probablity of -16.666814503643206\n",
      "The sequence \"the person was good \" has bigram probablity of -16.98712336693744\n",
      "The sequence \"the girl was sad \" has bigram probablity of -20.266873101374973\n",
      "The sequence \"he won the war\" has bigram probablity of -16.151138693025025\n",
      "\n",
      "\n",
      "Bigram test probabilities with Interpolation with lambda as 0.8 : \n",
      "The sequence \"he lived a good life \" has bigram probablity of -23.469007404529126\n",
      "The sequence \"the man was happy \" has bigram probablity of -18.642064470087583\n",
      "The sequence \"the person was good \" has bigram probablity of -19.493644237805704\n",
      "The sequence \"the girl was sad \" has bigram probablity of -22.729834120882433\n",
      "The sequence \"he won the war\" has bigram probablity of -17.653910671939844\n",
      "\n",
      "\n"
     ]
    }
   ],
   "source": [
    "print(\"Interpolation for Bigram Language Model: \")\n",
    "test_bigram_arr=[]\n",
    "lambda_list=[0.2, 0.5, 0.8]                    # List of lamda to test on\n",
    "num_unique_bigrams=len(bigram_counts.values())\n",
    "for Lambda in lambda_list:\n",
    "\n",
    "    print('Bigram test log likelihoods with Interpolation with lambda as',Lambda,': ')\n",
    "    for sent in test_sents:\n",
    "        p_val=0\n",
    "        for w1,w2 in bigrams(sent.split(),pad_left=True,pad_right=True,left_pad_symbol='<s>',right_pad_symbol='</s>'):\n",
    "            p_val+=interpolation_bigram(w1,w2,Lambda,bigram_counts,unigram_counts)\n",
    "        N=len(sent.split())\n",
    "        if(p_val!=(-np.inf)):\n",
    "            prob=np.exp(p_val)\n",
    "            perplexity=1/(np.power(prob,(1.0/N)))\n",
    "        else:\n",
    "            perplexity=np.inf\n",
    "        print('The sequence \\\"'+ sent +'\\\" has bigram log likelihood of '+ str(p_val)+' and perplexity '+str(perplexity))\n",
    "        test_bigram_arr.append(p_val)\n",
    "    print(\"\\n\")"
   ]
  },
  {
   "cell_type": "markdown",
   "metadata": {},
   "source": [
    "# Good Turing Smoothing"
   ]
  },
  {
   "cell_type": "code",
   "execution_count": 369,
   "metadata": {},
   "outputs": [],
   "source": [
    "def  build_N_counts_bigram(language_model):\n",
    "    global N_counts_bigram\n",
    "    global N_bigram\n",
    "    for key,value in language_model.items():\n",
    "        if value not in N_counts_bigram:\n",
    "            N_counts_bigram[value]=1\n",
    "        else:\n",
    "            N_counts_bigram[value]+=1\n",
    "    N_counts_bigram[0]=V*V-(len(language_model.keys()))            # Bigrams not seen\n",
    "\n",
    "    for key,value in N_counts_bigram.items():                      # Total number of bigrams\n",
    "        N_bigram+=(key*value)\n",
    "        \n",
    "def  build_N_counts_trigram(language_model):\n",
    "    global N_counts_trigram\n",
    "    global N_trigram\n",
    "    for key,value in language_model.items():\n",
    "        if value not in N_counts_trigram:\n",
    "            N_counts_trigram[value]=1\n",
    "        else:\n",
    "            N_counts_trigram[value]+=1\n",
    "\n",
    "    N_counts_trigram[0]=V*V*V-(len(language_model.keys()))          # Trigrams not seen\n",
    "    N_trigram=0\n",
    "    for key,value in N_counts_trigram.items():                      # Total number of trigrams\n",
    "        N_trigram+=(key*value)\n",
    "        \n",
    "def GoodTuring_bigram(k):       \n",
    "    GT_bigram=dict()\n",
    "    r_list=[r for r in bigram_counts.values()]\n",
    "    r_list=list(set(r_list))\n",
    "    for r in r_list:\n",
    "        GT_bigram[r]=P_GT_bigram_r(r,k)\n",
    "    GT_bigram[0]=P_GT_bigram_r(0,k)\n",
    "    prob_norm_sum=sum(GT_bigram.values())\n",
    "    for key in GT_bigram.keys():\n",
    "        GT_bigram[key]/=prob_norm_sum\n",
    "    return GT_bigram\n",
    "\n",
    "def P_GT_bigram(w1,w2):\n",
    "    r=bigram_counts.get((w1,w2),0)\n",
    "    return GT_bigram[r]\n",
    "def P_GT_bigram_r(r,k):\n",
    "    #if(r==0):\n",
    "        #return(N_counts_bigram[1]/N_bigram)     # return (N1/N) for unseen words\n",
    "    if(r>k):\n",
    "        return (r/N_bigram)\n",
    "    else:\n",
    "        numerator_first=(r+1)*(N_counts_bigram[r+1]/N_counts_bigram[r])\n",
    "        #numerator_second=r*(k+1)*(N_counts_bigram[k+1]/N_counts_bigram[1])\n",
    "        #denominator=1-((k+1)*(N_counts_bigram[k+1]/N_counts_bigram[1]))\n",
    "        r_star=numerator_first#-numerator_second)/denominator\n",
    "        return (r_star/N_bigram)   \n",
    "    \n",
    "def GoodTuring_trigram(k):       \n",
    "    GT_trigram=dict()\n",
    "    r_list=[r for r in trigram_counts.values()]\n",
    "    r_list=list(set(r_list))\n",
    "    for r in r_list:\n",
    "        GT_trigram[r]=P_GT_trigram_r(r,k)\n",
    "    GT_trigram[0]=P_GT_trigram_r(0,k)\n",
    "    prob_norm_sum=sum(GT_trigram.values())\n",
    "    for key in GT_trigram.keys():\n",
    "        GT_trigram[key]/=prob_norm_sum\n",
    "    return GT_trigram\n",
    "\n",
    "def P_GT_trigram(w1,w2,w3):\n",
    "    r=trigram_counts.get((w1,w2,w3),0)\n",
    "    return GT_trigram[r]    \n",
    "\n",
    "def P_GT_trigram_r(r,k):\n",
    "    #if(r==0):\n",
    "        #return(N_counts_trigram[1]/N_trigram)     # return (N1/N) for unseen words\n",
    "    if(r>k):\n",
    "        return (r/N_trigram)\n",
    "    else:\n",
    "        numerator_first=(r+1)*(N_counts_trigram[r+1]/N_counts_trigram[r])\n",
    "        #numerator_second=r*(k+1)*(N_counts_bigram[k+1]/N_counts_bigram[1])\n",
    "        #denominator=1-((k+1)*(N_counts_bigram[k+1]/N_counts_bigram[1]))\n",
    "        r_star=numerator_first#-numerator_second)/denominator\n",
    "        return (r_star/N_trigram)   \n",
    "    "
   ]
  },
  {
   "cell_type": "code",
   "execution_count": 370,
   "metadata": {},
   "outputs": [],
   "source": [
    "N_counts_bigram=dict()\n",
    "N_bigram=0\n",
    "build_N_counts_bigram(bigram_counts)\n",
    "GT_bigram=GoodTuring_bigram(k)\n",
    "N_counts_trigram=dict()\n",
    "N_trigram=0\n",
    "\n",
    "unigram_freq['<s>']=unigram_counts['<s>']/V\n",
    "test_bigram_arr=[]\n",
    "k=10\n",
    "for sent in test_sents:\n",
    "    p_val=0\n",
    "    for w1,w2 in bigrams(sent.split(),pad_left=True,pad_right=True,left_pad_symbol='<s>',right_pad_symbol='</s>'):\n",
    "        p_val+=np.log(P_GT_bigram(w1,w2)/unigram_freq[w1])\n",
    "    print('The sequence \\\"'+ sent +'\\\" has bigram log likelihood of '+ str(p_val))\n",
    "    test_bigram_arr.append(p_val)"
   ]
  },
  {
   "cell_type": "code",
   "execution_count": 372,
   "metadata": {},
   "outputs": [],
   "source": [
    "build_N_counts_trigram(trigram_counts)\n",
    "GT_trigram=GoodTuring_trigram(k)\n",
    "#bigram_counts[('<s>','<s>')]=unigram_counts['<s>']\n",
    "\n",
    "test_trigram_arr=[]\n",
    "print('Trigram test log likelihood: ')\n",
    "for sent in test_sents:\n",
    "    p_val=0\n",
    "    for w1,w2,w3 in trigrams(sent.split(),pad_left=True,pad_right=True,left_pad_symbol='<s>',right_pad_symbol='</s>'):\n",
    "        try:\n",
    "            if (w1=='<s>' and w2=='<s>'):\n",
    "                p_val+=np.log(P_GT_trigram(w1,w2,w3)/(unigram_counts['<s>']/N_bigram))\n",
    "            else:\n",
    "                if(P_GT_trigram(w1,w2,w3) > (bigram_counts.get((w1,w2),0)/N_bigram) ):\n",
    "                    print( P_GT_trigram(w1,w2,w3),w1,w2,w3)\n",
    "                p_val+=np.log(P_GT_trigram(w1,w2,w3)/(bigram_counts.get((w1,w2),0)/N_bigram))\n",
    "        except Exception as e:\n",
    "            print(w1,w2)\n",
    "            p_val=-np.inf\n",
    "            break\n",
    "    print('The sequence \\\"'+ sent +'\\\" has trigram log likelihood of '+ str(p_val))\n",
    "    \n",
    "    test_trigram_arr.append(p_val)"
   ]
  },
  {
   "cell_type": "code",
   "execution_count": 411,
   "metadata": {},
   "outputs": [
    {
     "data": {
      "text/plain": [
       "1.8566141120929218"
      ]
     },
     "execution_count": 411,
     "metadata": {},
     "output_type": "execute_result"
    }
   ],
   "source": [
    "np.power(141.18,1/8)"
   ]
  },
  {
   "cell_type": "code",
   "execution_count": null,
   "metadata": {},
   "outputs": [],
   "source": []
  }
 ],
 "metadata": {
  "kernelspec": {
   "display_name": "Python 2",
   "language": "python",
   "name": "python2"
  },
  "language_info": {
   "codemirror_mode": {
    "name": "ipython",
    "version": 3
   },
   "file_extension": ".py",
   "mimetype": "text/x-python",
   "name": "python",
   "nbconvert_exporter": "python",
   "pygments_lexer": "ipython3",
   "version": "3.6.5"
  }
 },
 "nbformat": 4,
 "nbformat_minor": 2
}

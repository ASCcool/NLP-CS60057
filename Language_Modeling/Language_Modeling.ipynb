{
 "cells": [
  {
   "cell_type": "code",
   "execution_count": 88,
   "metadata": {},
   "outputs": [],
   "source": [
    "from __future__ import division\n",
    "import nltk\n",
    "import re\n",
    "import matplotlib.pyplot as plt\n",
    "import numpy as np\n",
    "from nltk.corpus import brown\n",
    "from nltk import bigrams, ngrams, trigrams \n",
    "from nltk.probability import FreqDist as FreqDist  \n",
    "from numpy.polynomial.polynomial import polyfit\n",
    "from collections import Counter\n",
    "from string import digits\n",
    "from scipy import stats\n",
    "import operator\n",
    "from collections import OrderedDict"
   ]
  },
  {
   "cell_type": "code",
   "execution_count": 89,
   "metadata": {},
   "outputs": [],
   "source": [
    "def get_sentences(num_sentences):\n",
    "    sentences= brown.sents()[:num_sentences]\n",
    "    ret=[]\n",
    "    for sentence in sentences:\n",
    "        ret.append(' '.join(sentence))\n",
    "    return ret"
   ]
  },
  {
   "cell_type": "code",
   "execution_count": 90,
   "metadata": {},
   "outputs": [],
   "source": [
    "def preprocess_sents(sentences):\n",
    "    sentences = [sentence.lower() for sentence in sentences]\n",
    "    remove_digits = str.maketrans('', '', digits)\n",
    "    sentences = [sentence.translate(remove_digits)  for sentence in sentences]\n",
    "    sentences=[re.sub('\\W+',' ', sentence) for sentence in sentences]\n",
    "    return sentences"
   ]
  },
  {
   "cell_type": "code",
   "execution_count": 104,
   "metadata": {},
   "outputs": [],
   "source": [
    "def plot(x,y,Title=''):\n",
    "    x=np.asarray(x)\n",
    "    y=np.asarray(y)\n",
    "    #slope, intercept=polyfit(x, y, 1)\n",
    "    #plt.plot(x, intercept + slope*x, 'r', label='fitted line')\n",
    "    plt.plot(np.unique(x), np.poly1d(np.polyfit(x, y, 1))(np.unique(x)),'r', label='fitted line')\n",
    "    plt.plot(x,y,label='original data')\n",
    "    plt.title(Title)\n",
    "    plt.legend()\n",
    "    plt.show()"
   ]
  },
  {
   "cell_type": "code",
   "execution_count": 92,
   "metadata": {},
   "outputs": [],
   "source": [
    "def unigram_LM(sents):\n",
    "    unigrams=[]\n",
    "    for elem in sents:\n",
    "        unigrams.extend(elem.split())\n",
    "\n",
    "    unigram_counts=Counter(unigrams)\n",
    "    unique_unigrams=set(unigrams)\n",
    "    unigram_total=len(unigrams)\n",
    "    unigram_freq=dict()\n",
    "    for word in unigram_counts:\n",
    "        unigram_freq[word]=unigram_counts[word]/unigram_total\n",
    "\n",
    "    unigram_counts['<s>']=len(sents)\n",
    "\n",
    "    return unigram_counts,unigram_freq"
   ]
  },
  {
   "cell_type": "code",
   "execution_count": 93,
   "metadata": {},
   "outputs": [],
   "source": [
    "def bigram_model(sentences,k=0,unique_bigrams_num=0):\n",
    "    model={}\n",
    "    for sent in sentences:\n",
    "         for w1,w2 in ngrams(sent.split(),2, pad_left=True,pad_right=True,left_pad_symbol='<s>',right_pad_symbol='</s>'):\n",
    "            if w1 not in model:\n",
    "                model[w1]={}\n",
    "            if w2 not in model[w1]:\n",
    "                model[w1][w2]=0\n",
    "            model[w1][w2]+=1\n",
    "    for w1 in model:\n",
    "        tot_count=float(sum(model[w1].values()))\n",
    "        for w2 in model[w1]:\n",
    "            model[w1][w2]+=k\n",
    "            model[w1][w2]/=(tot_count+k*unique_bigrams_num)\n",
    "     \n",
    "    return model\n",
    "\n"
   ]
  },
  {
   "cell_type": "code",
   "execution_count": 94,
   "metadata": {},
   "outputs": [],
   "source": [
    "def trigram_model(sentences=0,k=0,unique_trigrams_num=0):\n",
    "    model={}\n",
    "    for sent in sentences:\n",
    "         for w1,w2,w3 in ngrams(sent.split(),3, pad_left=True,pad_right=True,left_pad_symbol='<s>',right_pad_symbol='</s>'):\n",
    "            if (w1,w2) not in model:\n",
    "                model[(w1,w2)]={}\n",
    "            if w3 not in model[(w1,w2)]:\n",
    "                model[(w1,w2)][w3]=0\n",
    "            model[(w1,w2)][w3]+=1\n",
    "    for (w1,w2) in model:\n",
    "        tot_count=float(sum(model[(w1,w2)].values()))\n",
    "        for w3 in model[(w1,w2)]:\n",
    "            model[(w1,w2)][w3]+=k\n",
    "            model[(w1,w2)][w3]/=(tot_count+k*unique_trigrams_num)\n",
    "     \n",
    "    return model\n"
   ]
  },
  {
   "cell_type": "code",
   "execution_count": 95,
   "metadata": {},
   "outputs": [],
   "source": [
    "def get_test_sentences(filename='test_examples.txt'):\n",
    "    sents=list()\n",
    "    with open(filename,'r') as f:\n",
    "        for line in f:\n",
    "            sents.append(line)\n",
    "        f.close()\n",
    "    return preprocess_sents(sents)"
   ]
  },
  {
   "cell_type": "code",
   "execution_count": 96,
   "metadata": {},
   "outputs": [],
   "source": [
    "def laplacian_unigram_model(w1,unigram_counts,k,V):\n",
    "    N=len(unigram_counts)\n",
    "    return np.log( ( (k+unigram_counts.get(w1,0))/(k*V+N) )  )\n",
    "def laplacian_bigram_model(w1,w2,bigram_counts,unigram_counts,k,V):\n",
    "    return np.log( ( (k+bigram_counts.get((w1,w2),0))/(k*V+unigram_counts.get(w1,0)) )  )\n",
    "\n",
    "def laplacian_trigram_model(w1,w2,w3,trigram_counts,bigram_counts,k,num_unique_trigrams):\n",
    "    if(w1=='<s>' and w2=='<s>'):\n",
    "        return np.log( ( (k+trigram_counts.get((w1,w2,w3),0))/(k*num_unique_trigrams+bigram_counts.get((w2,w3),0)) )  )\n",
    "    return np.log( ( (k+trigram_counts.get((w1,w2,w3),0))/(k*V+bigram_counts.get((w1,w2),0)) )  )"
   ]
  },
  {
   "cell_type": "markdown",
   "metadata": {},
   "source": [
    "### Getting the sentences from the Brown corpus"
   ]
  },
  {
   "cell_type": "code",
   "execution_count": 97,
   "metadata": {},
   "outputs": [],
   "source": [
    "sents=get_sentences(40000)            # Get 40k sentences from the Brown corpus as mentioned in assignment\n",
    "sents=preprocess_sents(sents)"
   ]
  },
  {
   "cell_type": "code",
   "execution_count": 98,
   "metadata": {},
   "outputs": [
    {
     "name": "stdout",
     "output_type": "stream",
     "text": [
      "the fulton county grand jury said friday an investigation of atlanta s recent primary election produced no evidence that any irregularities took place \n",
      "the jury further said in term end presentments that the city executive committee which had over all charge of the election deserves the praise and thanks of the city of atlanta for the manner in which the election was conducted \n",
      "the september october term jury had been charged by fulton superior court judge durwood pye to investigate reports of possible irregularities in the hard fought primary which was won by mayor nominate ivan allen jr \n",
      " only a relative handful of such reports was received the jury said considering the widespread interest in the election the number of voters and the size of this city \n",
      "the jury said it did find that many of georgia s registration and election laws are outmoded or inadequate and often ambiguous \n",
      "it recommended that fulton legislators act to have these laws studied and revised to the end of modernizing and improving them \n",
      "the grand jury commented on a number of other topics among them the atlanta and fulton county purchasing departments which it said are well operated and follow generally accepted practices which inure to the best interest of both governments \n",
      "merger proposed\n",
      "however the jury said it believes these two offices should be combined to achieve greater efficiency and reduce the cost of administration \n",
      "the city purchasing department the jury said is lacking in experienced clerical personnel as a result of city personnel policies \n"
     ]
    }
   ],
   "source": [
    "for sent in sents[:10]:\n",
    "    print(sent)"
   ]
  },
  {
   "cell_type": "markdown",
   "metadata": {},
   "source": [
    "## Creating the Language Models"
   ]
  },
  {
   "cell_type": "code",
   "execution_count": 102,
   "metadata": {},
   "outputs": [],
   "source": [
    "unigram_counts,unigram_freq=unigram_LM(sents)\n",
    "bigram_LM= bigram_model(sents)\n",
    "trigram_LM= trigram_model(sents)"
   ]
  },
  {
   "cell_type": "markdown",
   "metadata": {},
   "source": [
    "## Verifying Zipf's Law"
   ]
  },
  {
   "cell_type": "code",
   "execution_count": 105,
   "metadata": {},
   "outputs": [
    {
     "data": {
      "image/png": "[encoded data removed]",
      "text/plain": [
       "<Figure size 432x288 with 1 Axes>"
      ]
     },
     "metadata": {},
     "output_type": "display_data"
    }
   ],
   "source": [
    "x=[np.log(i+1) for i in range(len(unigram_counts.most_common()))]\n",
    "y=np.asarray(list(np.log(y[1]) for y in unigram_counts.most_common()))\n",
    "plot(x,y,'Unigram LM Plot')\n",
    "sorted_unigram_counts=sorted(unigram_counts.items(), key=operator.itemgetter(1),reverse=True)"
   ]
  },
  {
   "cell_type": "code",
   "execution_count": 106,
   "metadata": {},
   "outputs": [],
   "source": [
    "bigram_counts={}\n",
    "for sent in sents:\n",
    "    for w in ngrams(sent.split(),2, pad_left=True,pad_right=True,left_pad_symbol='<s>',right_pad_symbol='</s>'):\n",
    "        if(w not in bigram_counts):\n",
    "            bigram_counts[w]=1\n",
    "        else:\n",
    "            bigram_counts[w]+=1\n",
    "\n",
    "\n",
    "sorted_bigram_counts=sorted(bigram_counts.items(), key=operator.itemgetter(1),reverse=True)"
   ]
  },
  {
   "cell_type": "code",
   "execution_count": 107,
   "metadata": {},
   "outputs": [
    {
     "data": {
      "image/png": "[encoded data removed]",
      "text/plain": [
       "<Figure size 432x288 with 1 Axes>"
      ]
     },
     "metadata": {},
     "output_type": "display_data"
    }
   ],
   "source": [
    "x=[np.log(i+1) for i in range(len(sorted_bigram_counts))]\n",
    "y=np.asarray(list(np.log(y[1]) for y in sorted_bigram_counts[:]))\n",
    "plot(x,y,'Bigram LM Plot')"
   ]
  },
  {
   "cell_type": "code",
   "execution_count": 108,
   "metadata": {},
   "outputs": [],
   "source": [
    "trigram_counts={}\n",
    "for sent in sents:\n",
    "    for w in ngrams(sent.split(),3, pad_left=True,pad_right=True,left_pad_symbol='<s>',right_pad_symbol='</s>'):\n",
    "        if(w not in trigram_counts):\n",
    "            trigram_counts[w]=1\n",
    "        else:\n",
    "            trigram_counts[w]+=1\n",
    "\n",
    "\n",
    "\n",
    "sorted_trigram_counts=sorted(trigram_counts.items(), key=operator.itemgetter(1),reverse=True)"
   ]
  },
  {
   "cell_type": "code",
   "execution_count": 115,
   "metadata": {},
   "outputs": [
    {
     "data": {
      "image/png": "[encoded data removed]",
      "text/plain": [
       "<Figure size 432x288 with 1 Axes>"
      ]
     },
     "metadata": {},
     "output_type": "display_data"
    }
   ],
   "source": [
    "x=[np.log(i+1) for i in range(len(sorted_trigram_counts[:50000]))]\n",
    "y=np.asarray(list(np.log(y[1]) for y in sorted_trigram_counts[:50000]))\n",
    "plot(x,y,'Trigram LM Plot')"
   ]
  },
  {
   "cell_type": "code",
   "execution_count": 59,
   "metadata": {},
   "outputs": [
    {
     "data": {
      "text/plain": [
       "[('the', 56474),\n",
       " ('<s>', 40000),\n",
       " ('of', 31329),\n",
       " ('and', 22154),\n",
       " ('to', 20413),\n",
       " ('a', 17918),\n",
       " ('in', 17766),\n",
       " ('is', 9474),\n",
       " ('that', 8306),\n",
       " ('for', 7797),\n",
       " ('it', 6198)]"
      ]
     },
     "execution_count": 59,
     "metadata": {},
     "output_type": "execute_result"
    }
   ],
   "source": [
    "sorted_unigram_counts[:11]"
   ]
  },
  {
   "cell_type": "code",
   "execution_count": 53,
   "metadata": {},
   "outputs": [
    {
     "data": {
      "text/plain": [
       "[(('of', 'the'), 8512),\n",
       " (('<s>', 'the'), 5798),\n",
       " (('in', 'the'), 4986),\n",
       " (('to', 'the'), 2820),\n",
       " (('and', 'the'), 1848),\n",
       " (('on', 'the'), 1829),\n",
       " (('for', 'the'), 1592),\n",
       " (('<s>', 'in'), 1585),\n",
       " (('<s>', 'it'), 1578),\n",
       " (('<s>', 'he'), 1403)]"
      ]
     },
     "execution_count": 53,
     "metadata": {},
     "output_type": "execute_result"
    }
   ],
   "source": [
    "sorted_bigram_counts[:10]"
   ]
  },
  {
   "cell_type": "code",
   "execution_count": 56,
   "metadata": {},
   "outputs": [
    {
     "data": {
      "text/plain": [
       "[(('<s>', '<s>', 'the'), 5798),\n",
       " (('<s>', '<s>', 'in'), 1585),\n",
       " (('<s>', '<s>', 'it'), 1578),\n",
       " (('<s>', '<s>', 'he'), 1403),\n",
       " (('<s>', '<s>', 'this'), 1052),\n",
       " (('<s>', '<s>', 'but'), 1038),\n",
       " (('<s>', '<s>', 'a'), 956),\n",
       " (('<s>', '<s>', 'and'), 831),\n",
       " (('<s>', '<s>', 'i'), 729),\n",
       " (('<s>', '<s>', 'they'), 614)]"
      ]
     },
     "execution_count": 56,
     "metadata": {},
     "output_type": "execute_result"
    }
   ],
   "source": [
    "sorted_trigram_counts[:10]"
   ]
  },
  {
   "cell_type": "markdown",
   "metadata": {},
   "source": [
    "## Testing (without smoothing)"
   ]
  },
  {
   "cell_type": "code",
   "execution_count": 45,
   "metadata": {},
   "outputs": [],
   "source": [
    "test_sents=get_test_sentences()"
   ]
  },
  {
   "cell_type": "code",
   "execution_count": 46,
   "metadata": {},
   "outputs": [
    {
     "name": "stdout",
     "output_type": "stream",
     "text": [
      "Unigram test probabilities: \n",
      "\n",
      "The sequence \"he lived a good life  \" has unigram probablity of -32.61637181331728\n",
      "The sequence \"the man was happy  \" has unigram probablity of -23.897270970344053\n",
      "The sequence \"the person was good  \" has unigram probablity of -23.326684213898012\n",
      "The sequence \"the girl was sad  \" has unigram probablity of -27.222336320670067\n",
      "The sequence \"he won the war \" has unigram probablity of -24.106951714822433\n"
     ]
    }
   ],
   "source": [
    "test_unigram_arr=[]\n",
    "print('Unigram test probabilities: ')\n",
    "print()\n",
    "for sent in test_sents:\n",
    "    try:\n",
    "        p_val=np.sum([np.log(unigram_freq[word]) for word in sent.split()])\n",
    "    except Exception as e:\n",
    "        p_val=-np.inf\n",
    "    test_unigram_arr.append(p_val)\n",
    "    print('The sequence \\\"'+sent+' \\\" has unigram probablity of '+ str(p_val))\n"
   ]
  },
  {
   "cell_type": "code",
   "execution_count": 47,
   "metadata": {},
   "outputs": [
    {
     "name": "stdout",
     "output_type": "stream",
     "text": [
      "The sequence \"he lived a good life \" has bigram probablity of -26.88656843222555\n",
      "The sequence \"the man was happy \" has bigram probablity of -22.06160121911623\n",
      "The sequence \"the person was good \" has bigram probablity of -24.839981504247724\n",
      "The sequence \"the girl was sad \" has bigram probablity of -inf\n",
      "The sequence \"he won the war\" has bigram probablity of -20.079546963054263\n"
     ]
    }
   ],
   "source": [
    "test_bigram_arr=[]\n",
    "for sent in test_sents:\n",
    "    p_val=0\n",
    "    for w1,w2 in bigrams(sent.split(),pad_left=True,pad_right=True,left_pad_symbol='<s>',right_pad_symbol='</s>'):\n",
    "        if w1 in bigram_LM:\n",
    "            try:\n",
    "                p_val+=np.log(bigram_LM[w1][w2])\n",
    "            except Exception as e:\n",
    "                p_val=-np.inf\n",
    "                break\n",
    "        else:\n",
    "            p_val=-np.inf\n",
    "            break\n",
    "    print('The sequence \\\"'+ sent +'\\\" has bigram probablity of '+ str(p_val))\n",
    "    test_bigram_arr.append(p_val)"
   ]
  },
  {
   "cell_type": "code",
   "execution_count": 48,
   "metadata": {},
   "outputs": [
    {
     "name": "stdout",
     "output_type": "stream",
     "text": [
      "Trigram test probabilities: \n",
      "The sequence \"he lived a good life \" has trigram probablity of -inf\n",
      "The sequence \"the man was happy \" has trigram probablity of -inf\n",
      "The sequence \"the person was good \" has trigram probablity of -inf\n",
      "The sequence \"the girl was sad \" has trigram probablity of -inf\n",
      "The sequence \"he won the war\" has trigram probablity of -16.519106408717104\n"
     ]
    }
   ],
   "source": [
    "test_trigram_arr=[]\n",
    "print('Trigram test probabilities: ')\n",
    "for sent in test_sents:\n",
    "    p_val=0\n",
    "    for w1,w2,w3 in trigrams(sent.split(),pad_left=True,pad_right=True,left_pad_symbol='<s>',right_pad_symbol='</s>'):\n",
    "        try:\n",
    "            p_val+=np.log(trigram_LM[(w1,w2)][w3])\n",
    "        except Exception as e:\n",
    "            p_val=-np.inf\n",
    "            break\n",
    "    print('The sequence \\\"'+ sent +'\\\" has trigram probablity of '+ str(p_val))\n",
    "    \n",
    "    test_trigram_arr.append(p_val)"
   ]
  },
  {
   "cell_type": "markdown",
   "metadata": {},
   "source": [
    "## Laplace/ Additive Smoothing"
   ]
  },
  {
   "cell_type": "code",
   "execution_count": 49,
   "metadata": {},
   "outputs": [],
   "source": [
    "k_list=[pow(10,i) for i in range(-4,1)]"
   ]
  },
  {
   "cell_type": "code",
   "execution_count": 51,
   "metadata": {},
   "outputs": [
    {
     "name": "stdout",
     "output_type": "stream",
     "text": [
      "Unigram test probabilities with Laplacian/ Additive Smoothing with k as 0.0001 : \n",
      "\n",
      "The sequence \"he lived a good life \" has unigram probablity of -17.278728667128117\n",
      "The sequence \"the man was happy \" has unigram probablity of -11.62715614682182\n",
      "The sequence \"the person was good \" has unigram probablity of -11.0565703479828\n",
      "The sequence \"the girl was sad \" has unigram probablity of -14.952216470356795\n",
      "The sequence \"he won the war\" has unigram probablity of -11.836837534506543\n",
      "\n",
      "\n",
      "Unigram test probabilities with Laplacian/ Additive Smoothing with k as 0.001 : \n",
      "\n",
      "The sequence \"he lived a good life \" has unigram probablity of -17.283208670887742\n",
      "The sequence \"the man was happy \" has unigram probablity of -11.630737390733085\n",
      "The sequence \"the person was good \" has unigram probablity of -11.060160210247664\n",
      "The sequence \"the girl was sad \" has unigram probablity of -14.955752474615409\n",
      "The sequence \"he won the war\" has unigram probablity of -11.840424567185226\n",
      "\n",
      "\n",
      "Unigram test probabilities with Laplacian/ Additive Smoothing with k as 0.01 : \n",
      "\n",
      "The sequence \"he lived a good life \" has unigram probablity of -17.327787605921454\n",
      "The sequence \"the man was happy \" has unigram probablity of -11.666372951924581\n",
      "The sequence \"the person was good \" has unigram probablity of -11.09588194412603\n",
      "The sequence \"the girl was sad \" has unigram probablity of -14.990935784425227\n",
      "The sequence \"he won the war\" has unigram probablity of -11.876118007176334\n",
      "\n",
      "\n",
      "Unigram test probabilities with Laplacian/ Additive Smoothing with k as 0.1 : \n",
      "\n",
      "The sequence \"he lived a good life \" has unigram probablity of -17.752835821279113\n",
      "The sequence \"the man was happy \" has unigram probablity of -12.006136068172854\n",
      "The sequence \"the person was good \" has unigram probablity of -11.436505703737048\n",
      "The sequence \"the girl was sad \" has unigram probablity of -15.326190842474277\n",
      "The sequence \"he won the war\" has unigram probablity of -12.216459025208739\n",
      "\n",
      "\n",
      "Unigram test probabilities with Laplacian/ Additive Smoothing with k as 1 : \n",
      "\n",
      "The sequence \"he lived a good life \" has unigram probablity of -20.724623984096297\n",
      "The sequence \"the man was happy \" has unigram probablity of -14.380852709172991\n",
      "The sequence \"the person was good \" has unigram probablity of -13.819721813921277\n",
      "The sequence \"the girl was sad \" has unigram probablity of -17.657216111807745\n",
      "The sequence \"he won the war\" has unigram probablity of -14.59686728961843\n",
      "\n",
      "\n"
     ]
    }
   ],
   "source": [
    "test_uniigram_arr=[]\n",
    "for k in k_list:\n",
    "    print('Unigram test probabilities with Laplacian/ Additive Smoothing with k as',k,': \\n')\n",
    "    for sent in test_sents:\n",
    "        p_val=0\n",
    "        for w1 in sent.split():\n",
    "            p_val+=laplacian_unigram_model(w1,unigram_counts,k,V)\n",
    "        print('The sequence \\\"'+ sent +'\\\" has unigram probablity of '+ str(p_val))\n",
    "        test_unigram_arr.append(p_val)\n",
    "    print(\"\\n\")\n",
    "    "
   ]
  },
  {
   "cell_type": "code",
   "execution_count": 52,
   "metadata": {},
   "outputs": [
    {
     "name": "stdout",
     "output_type": "stream",
     "text": [
      "Bigram test probabilities with Laplacian/ Additive Smoothing with k as 0.0001 : \n",
      "The sequence \"he lived a good life \" has bigram probablity of -26.956115844462982\n",
      "The sequence \"the man was happy \" has bigram probablity of -22.128016928486232\n",
      "The sequence \"the person was good \" has bigram probablity of -24.87279365929685\n",
      "The sequence \"the girl was sad \" has bigram probablity of -34.43170756838363\n",
      "The sequence \"he won the war\" has bigram probablity of -20.123700434271637\n",
      "\n",
      "\n",
      "Bigram test probabilities with Laplacian/ Additive Smoothing with k as 0.001 : \n",
      "The sequence \"he lived a good life \" has bigram probablity of -27.471899994710714\n",
      "The sequence \"the man was happy \" has bigram probablity of -22.601935867047906\n",
      "The sequence \"the person was good \" has bigram probablity of -25.13996877695201\n",
      "The sequence \"the girl was sad \" has bigram probablity of -33.362882449445124\n",
      "The sequence \"he won the war\" has bigram probablity of -20.472866918268032\n",
      "\n",
      "\n",
      "Bigram test probabilities with Laplacian/ Additive Smoothing with k as 0.01 : \n",
      "The sequence \"he lived a good life \" has bigram probablity of -29.838657898578443\n",
      "The sequence \"the man was happy \" has bigram probablity of -24.489722757030027\n",
      "The sequence \"the person was good \" has bigram probablity of -26.667295209226506\n",
      "The sequence \"the girl was sad \" has bigram probablity of -34.307521229359814\n",
      "The sequence \"he won the war\" has bigram probablity of -22.287566802346593\n",
      "\n",
      "\n",
      "Bigram test probabilities with Laplacian/ Additive Smoothing with k as 0.1 : \n",
      "The sequence \"he lived a good life \" has bigram probablity of -35.49916929888791\n",
      "The sequence \"the man was happy \" has bigram probablity of -28.493351626432464\n",
      "The sequence \"the person was good \" has bigram probablity of -30.60185974421112\n",
      "The sequence \"the girl was sad \" has bigram probablity of -36.81317977023883\n",
      "The sequence \"he won the war\" has bigram probablity of -26.58523474520295\n",
      "\n",
      "\n",
      "Bigram test probabilities with Laplacian/ Additive Smoothing with k as 1 : \n",
      "The sequence \"he lived a good life \" has bigram probablity of -43.82301832751951\n",
      "The sequence \"the man was happy \" has bigram probablity of -34.94551881480757\n",
      "The sequence \"the person was good \" has bigram probablity of -36.66032503727415\n",
      "The sequence \"the girl was sad \" has bigram probablity of -40.79862254808145\n",
      "The sequence \"he won the war\" has bigram probablity of -33.43213771996903\n",
      "\n",
      "\n"
     ]
    }
   ],
   "source": [
    "test_bigram_arr=[]\n",
    "V=len(unigram_counts.values())\n",
    "for k in k_list:\n",
    "\n",
    "    print('Bigram test probabilities with Laplacian/ Additive Smoothing with k as',k,': ')\n",
    "    for sent in test_sents:\n",
    "        p_val=0\n",
    "        for w1,w2 in bigrams(sent.split(),pad_left=True,pad_right=True,left_pad_symbol='<s>',right_pad_symbol='</s>'):\n",
    "            p_val+=laplacian_bigram_model(w1,w2,bigram_counts,unigram_counts,k,V)\n",
    "\n",
    "        print('The sequence \\\"'+ sent +'\\\" has bigram probablity of '+ str(p_val))\n",
    "        test_bigram_arr.append(p_val)\n",
    "    print(\"\\n\")"
   ]
  },
  {
   "cell_type": "code",
   "execution_count": 24,
   "metadata": {},
   "outputs": [
    {
     "name": "stdout",
     "output_type": "stream",
     "text": [
      "Trigram test probabilities with Laplacian/ Additive Smoothing with k as 0.0001 : \n",
      "\n",
      "The sequence \"he lived a good life \" has trigram probablity of -44.35954307238338\n",
      "The sequence \"the man was happy \" has trigram probablity of -32.525849932687606\n",
      "The sequence \"the person was good \" has trigram probablity of -32.81651234922698\n",
      "The sequence \"the girl was sad \" has trigram probablity of -34.03222847979623\n",
      "The sequence \"he won the war\" has trigram probablity of -13.873468626625245\n",
      "\n",
      "\n",
      "Trigram test probabilities with Laplacian/ Additive Smoothing with k as 0.001 : \n",
      "\n",
      "The sequence \"he lived a good life \" has trigram probablity of -43.56698735123187\n",
      "The sequence \"the man was happy \" has trigram probablity of -32.45567022859919\n",
      "The sequence \"the person was good \" has trigram probablity of -33.413265167818885\n",
      "The sequence \"the girl was sad \" has trigram probablity of -36.63228918957997\n",
      "The sequence \"he won the war\" has trigram probablity of -16.980838422854518\n",
      "\n",
      "\n",
      "Trigram test probabilities with Laplacian/ Additive Smoothing with k as 0.01 : \n",
      "\n",
      "The sequence \"he lived a good life \" has trigram probablity of -45.86346984641345\n",
      "The sequence \"the man was happy \" has trigram probablity of -35.58493111954649\n",
      "The sequence \"the person was good \" has trigram probablity of -36.9824962993664\n",
      "The sequence \"the girl was sad \" has trigram probablity of -40.943525813231126\n",
      "The sequence \"he won the war\" has trigram probablity of -24.203912309710446\n",
      "\n",
      "\n",
      "Trigram test probabilities with Laplacian/ Additive Smoothing with k as 0.1 : \n",
      "\n",
      "The sequence \"he lived a good life \" has trigram probablity of -51.84510354658747\n",
      "The sequence \"the man was happy \" has trigram probablity of -40.74038230288487\n",
      "The sequence \"the person was good \" has trigram probablity of -42.174912382724635\n",
      "The sequence \"the girl was sad \" has trigram probablity of -46.14768319735244\n",
      "The sequence \"he won the war\" has trigram probablity of -34.89240904523227\n",
      "\n",
      "\n",
      "Trigram test probabilities with Laplacian/ Additive Smoothing with k as 1 : \n",
      "\n",
      "The sequence \"he lived a good life \" has trigram probablity of -59.54863153298325\n",
      "The sequence \"the man was happy \" has trigram probablity of -47.980836537835124\n",
      "The sequence \"the person was good \" has trigram probablity of -48.890657345618564\n",
      "The sequence \"the girl was sad \" has trigram probablity of -52.197482262863545\n",
      "The sequence \"he won the war\" has trigram probablity of -46.45466156837952\n",
      "\n",
      "\n"
     ]
    }
   ],
   "source": [
    "for k in k_list:\n",
    "    test_trigram_arr=[]\n",
    "    print('Trigram test probabilities with Laplacian/ Additive Smoothing with k as',k,': \\n')\n",
    "    for sent in test_sents:\n",
    "        p_val=0\n",
    "        for w1,w2,w3 in trigrams(sent.split(),pad_left=True,pad_right=True,left_pad_symbol='<s>',right_pad_symbol='</s>'):\n",
    "            p_val+=laplacian_trigram_model(w1,w2,w3,trigram_counts,bigram_counts,k,V)\n",
    "        print('The sequence \\\"'+ sent +'\\\" has trigram probablity of '+ str(p_val))\n",
    "\n",
    "        test_trigram_arr.append(p_val)\n",
    "    print(\"\\n\")"
   ]
  },
  {
   "cell_type": "markdown",
   "metadata": {},
   "source": [
    "## Interpolation Models"
   ]
  },
  {
   "cell_type": "code",
   "execution_count": 25,
   "metadata": {},
   "outputs": [],
   "source": [
    "def interpolation_bigram(w1,w2,Lambda,bigram_counts,unigram_counts):\n",
    "    num_unigrams=len(unigram_counts.values())\n",
    "    if (w1 in unigram_counts):\n",
    "        probability= Lambda*((bigram_counts.get((w1,w2),0))/(unigram_counts.get(w1,0))) +(1-Lambda)*(unigram_counts.get(w2,0)/num_unigrams)\n",
    "    else:\n",
    "        print(w1)\n",
    "        return -np.inf\n",
    "    if(probability==0):\n",
    "        return -np.inf\n",
    "    else:\n",
    "        return np.log(probability)"
   ]
  },
  {
   "cell_type": "code",
   "execution_count": 26,
   "metadata": {},
   "outputs": [
    {
     "name": "stdout",
     "output_type": "stream",
     "text": [
      "Bigram test probabilities with Interpolation with lambda as 0.2 : \n",
      "The sequence \"he lived a good life \" has bigram probablity of -21.22206613167789\n",
      "The sequence \"the man was happy \" has bigram probablity of -16.0985514676804\n",
      "The sequence \"the person was good \" has bigram probablity of -16.218514874415803\n",
      "The sequence \"the girl was sad \" has bigram probablity of -19.51848178080951\n",
      "The sequence \"he won the war\" has bigram probablity of -15.807276922168901\n",
      "\n",
      "\n",
      "Bigram test probabilities with Interpolation with lambda as 0.5 : \n",
      "The sequence \"he lived a good life \" has bigram probablity of -21.70829104486406\n",
      "The sequence \"the man was happy \" has bigram probablity of -16.666814503643206\n",
      "The sequence \"the person was good \" has bigram probablity of -16.98712336693744\n",
      "The sequence \"the girl was sad \" has bigram probablity of -20.266873101374973\n",
      "The sequence \"he won the war\" has bigram probablity of -16.151138693025025\n",
      "\n",
      "\n",
      "Bigram test probabilities with Interpolation with lambda as 0.8 : \n",
      "The sequence \"he lived a good life \" has bigram probablity of -23.469007404529126\n",
      "The sequence \"the man was happy \" has bigram probablity of -18.642064470087583\n",
      "The sequence \"the person was good \" has bigram probablity of -19.493644237805704\n",
      "The sequence \"the girl was sad \" has bigram probablity of -22.729834120882433\n",
      "The sequence \"he won the war\" has bigram probablity of -17.653910671939844\n",
      "\n",
      "\n"
     ]
    }
   ],
   "source": [
    "test_bigram_arr=[]\n",
    "lambda_list=[0.2, 0.5, 0.8]\n",
    "num_unique_bigrams=len(bigram_counts.values())\n",
    "for Lambda in lambda_list:\n",
    "\n",
    "    print('Bigram test probabilities with Interpolation with lambda as',Lambda,': ')\n",
    "    for sent in test_sents:\n",
    "        p_val=0\n",
    "        for w1,w2 in bigrams(sent.split(),pad_left=True,pad_right=True,left_pad_symbol='<s>',right_pad_symbol='</s>'):\n",
    "            p_val+=interpolation_bigram(w1,w2,Lambda,bigram_counts,unigram_counts)\n",
    "\n",
    "        print('The sequence \\\"'+ sent +'\\\" has bigram probablity of '+ str(p_val))\n",
    "        test_bigram_arr.append(p_val)\n",
    "    print(\"\\n\")"
   ]
  },
  {
   "cell_type": "code",
   "execution_count": 114,
   "metadata": {},
   "outputs": [
    {
     "data": {
      "text/plain": [
       "654361"
      ]
     },
     "execution_count": 114,
     "metadata": {},
     "output_type": "execute_result"
    }
   ],
   "source": [
    "len(sorted_trigram_counts)"
   ]
  },
  {
   "cell_type": "code",
   "execution_count": 116,
   "metadata": {},
   "outputs": [
    {
     "data": {
      "text/plain": [
       "349144"
      ]
     },
     "execution_count": 116,
     "metadata": {},
     "output_type": "execute_result"
    }
   ],
   "source": [
    "len(sorted_bigram_counts)"
   ]
  },
  {
   "cell_type": "code",
   "execution_count": null,
   "metadata": {},
   "outputs": [],
   "source": []
  }
 ],
 "metadata": {
  "kernelspec": {
   "display_name": "Python 2",
   "language": "python",
   "name": "python2"
  },
  "language_info": {
   "codemirror_mode": {
    "name": "ipython",
    "version": 3
   },
   "file_extension": ".py",
   "mimetype": "text/x-python",
   "name": "python",
   "nbconvert_exporter": "python",
   "pygments_lexer": "ipython3",
   "version": "3.6.5"
  }
 },
 "nbformat": 4,
 "nbformat_minor": 2
}

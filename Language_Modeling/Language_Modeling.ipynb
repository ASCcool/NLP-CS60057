{
 "cells": [
  {
   "cell_type": "code",
   "execution_count": 127,
   "metadata": {},
   "outputs": [],
   "source": [
    "from __future__ import division\n",
    "import nltk\n",
    "import re\n",
    "import matplotlib.pyplot as plt\n",
    "import numpy as np\n",
    "from nltk.corpus import brown\n",
    "from nltk import bigrams, ngrams, trigrams \n",
    "from nltk.probability import FreqDist as FreqDist  \n",
    "from collections import Counter\n",
    "from string import digits\n",
    "import operator\n",
    "from collections import OrderedDict"
   ]
  },
  {
   "cell_type": "code",
   "execution_count": 128,
   "metadata": {},
   "outputs": [],
   "source": [
    "def get_sentences(num_sentences):\n",
    "    sentences= brown.sents()[:num_sentences]\n",
    "    ret=[]\n",
    "    for sentence in sentences:\n",
    "        ret.append(' '.join(sentence))\n",
    "    return ret"
   ]
  },
  {
   "cell_type": "code",
   "execution_count": 129,
   "metadata": {},
   "outputs": [],
   "source": [
    "def preprocess_sents(sentences):\n",
    "    sentences = [sentence.lower() for sentence in sentences]\n",
    "    remove_digits = str.maketrans('', '', digits)\n",
    "    sentences = [sentence.translate(remove_digits)  for sentence in sentences]\n",
    "    sentences=[re.sub('\\W+',' ', sentence) for sentence in sentences]\n",
    "    return sentences"
   ]
  },
  {
   "cell_type": "code",
   "execution_count": 130,
   "metadata": {},
   "outputs": [],
   "source": [
    "def plot(x,y,Title=''):\n",
    "    plt.plot(x,y)\n",
    "    plt.title(Title)\n",
    "    plt.show()"
   ]
  },
  {
   "cell_type": "code",
   "execution_count": 131,
   "metadata": {},
   "outputs": [],
   "source": [
    "def unigram_LM(sents,k=None):\n",
    "    unigrams=[]\n",
    "    for elem in sents:\n",
    "        unigrams.extend(elem.split())\n",
    "\n",
    "    unigram_counts=Counter(unigrams)\n",
    "    unique_unigrams=set(unigrams)\n",
    "    unigram_total=len(unigrams)\n",
    "    unigram_freq=dict()\n",
    "    for word in unigram_counts:\n",
    "        if(k==None):\n",
    "            unigram_freq[word]=unigram_counts[word]/unigram_total\n",
    "        else:\n",
    "            unigram_freq[word]=unigram_counts[word]+k/unigram_total+k*(len(list(unique_unigrams)))\n",
    "    unigram_counts['<s>']=len(sents)\n",
    "\n",
    "    return unigram_counts,unigram_freq"
   ]
  },
  {
   "cell_type": "code",
   "execution_count": 132,
   "metadata": {},
   "outputs": [],
   "source": [
    "def bigram_model(sentences,k=0,unique_bigrams_num=0):\n",
    "    model={}\n",
    "    for sent in sentences:\n",
    "         for w1,w2 in ngrams(sent.split(),2, pad_left=True,pad_right=True,left_pad_symbol='<s>',right_pad_symbol='</s>'):\n",
    "            if w1 not in model:\n",
    "                model[w1]={}\n",
    "            if w2 not in model[w1]:\n",
    "                model[w1][w2]=0\n",
    "            model[w1][w2]+=1\n",
    "    for w1 in model:\n",
    "        tot_count=float(sum(model[w1].values()))\n",
    "        for w2 in model[w1]:\n",
    "            model[w1][w2]+=k\n",
    "            model[w1][w2]/=(tot_count+k*unique_bigrams_num)\n",
    "     \n",
    "    return model\n",
    "\n"
   ]
  },
  {
   "cell_type": "code",
   "execution_count": 133,
   "metadata": {},
   "outputs": [],
   "source": [
    "def trigram_model(sentences=0,k=0,unique_trigrams_num=0):\n",
    "    model={}\n",
    "    for sent in sentences:\n",
    "         for w1,w2,w3 in ngrams(sent.split(),3, pad_left=True,pad_right=True,left_pad_symbol='<s>',right_pad_symbol='</s>'):\n",
    "            if (w1,w2) not in model:\n",
    "                model[(w1,w2)]={}\n",
    "            if w3 not in model[(w1,w2)]:\n",
    "                model[(w1,w2)][w3]=0\n",
    "            model[(w1,w2)][w3]+=1\n",
    "    for (w1,w2) in model:\n",
    "        tot_count=float(sum(model[(w1,w2)].values()))\n",
    "        for w3 in model[(w1,w2)]:\n",
    "            model[(w1,w2)][w3]+=k\n",
    "            model[(w1,w2)][w3]/=(tot_count+k*unique_trigrams_num)\n",
    "     \n",
    "    return model\n"
   ]
  },
  {
   "cell_type": "code",
   "execution_count": 134,
   "metadata": {},
   "outputs": [],
   "source": [
    "def get_test_sentences(filename='test_examples.txt'):\n",
    "    sents=list()\n",
    "    with open(filename,'r') as f:\n",
    "        for line in f:\n",
    "            sents.append(line)\n",
    "        f.close()\n",
    "    return preprocess_sents(sents)"
   ]
  },
  {
   "cell_type": "code",
   "execution_count": 135,
   "metadata": {},
   "outputs": [],
   "source": [
    "def laplacian_bigram_model(w1,w2,bigram_counts,unigram_counts,k,num_unique_bigrams):\n",
    "    return np.log( ( (k+bigram_counts.get((w1,w2),0))/(k*num_unique_bigrams+unigram_counts.get(w1,0)) )  )\n",
    "\n",
    "def laplacian_trigram_model(w1,w2,w3,trigram_counts,bigram_counts,k,num_unique_trigrams):\n",
    "    if(w1=='<s>' and w2=='<s>'):\n",
    "        return np.log( ( (k+trigram_counts.get((w1,w2,w3),0))/(k*num_unique_trigrams+bigram_counts.get((w2,w3),0)) )  )\n",
    "    return np.log( ( (k+trigram_counts.get((w1,w2,w3),0))/(k*num_unique_trigrams+bigram_counts.get((w1,w2),0)) )  )"
   ]
  },
  {
   "cell_type": "code",
   "execution_count": 136,
   "metadata": {},
   "outputs": [],
   "source": [
    "sents=get_sentences(40000)            # Get 40k sentences from the Brown corpus as mentioned in assignment\n",
    "sents=preprocess_sents(sents)"
   ]
  },
  {
   "cell_type": "code",
   "execution_count": 137,
   "metadata": {},
   "outputs": [
    {
     "name": "stdout",
     "output_type": "stream",
     "text": [
      "the fulton county grand jury said friday an investigation of atlanta s recent primary election produced no evidence that any irregularities took place \n",
      "the jury further said in term end presentments that the city executive committee which had over all charge of the election deserves the praise and thanks of the city of atlanta for the manner in which the election was conducted \n",
      "the september october term jury had been charged by fulton superior court judge durwood pye to investigate reports of possible irregularities in the hard fought primary which was won by mayor nominate ivan allen jr \n",
      " only a relative handful of such reports was received the jury said considering the widespread interest in the election the number of voters and the size of this city \n",
      "the jury said it did find that many of georgia s registration and election laws are outmoded or inadequate and often ambiguous \n",
      "it recommended that fulton legislators act to have these laws studied and revised to the end of modernizing and improving them \n",
      "the grand jury commented on a number of other topics among them the atlanta and fulton county purchasing departments which it said are well operated and follow generally accepted practices which inure to the best interest of both governments \n",
      "merger proposed\n",
      "however the jury said it believes these two offices should be combined to achieve greater efficiency and reduce the cost of administration \n",
      "the city purchasing department the jury said is lacking in experienced clerical personnel as a result of city personnel policies \n"
     ]
    }
   ],
   "source": [
    "for sent in sents[:10]:\n",
    "    print(sent)"
   ]
  },
  {
   "cell_type": "markdown",
   "metadata": {},
   "source": [
    "## Verifying Zipf's Law"
   ]
  },
  {
   "cell_type": "code",
   "execution_count": 138,
   "metadata": {},
   "outputs": [],
   "source": [
    "unigram_counts,unigram_freq=unigram_LM(sents)"
   ]
  },
  {
   "cell_type": "code",
   "execution_count": 139,
   "metadata": {},
   "outputs": [
    {
     "data": {
      "image/png": "[encoded data removed]",
      "text/plain": [
       "<Figure size 432x288 with 1 Axes>"
      ]
     },
     "metadata": {},
     "output_type": "display_data"
    }
   ],
   "source": [
    "x=[np.log(i+1) for i in range(len(unigram_counts.most_common()))]\n",
    "y=np.asarray(list(np.log(y[1]) for y in unigram_counts.most_common()))\n",
    "plot(x,y,'Unigram LM Plot')"
   ]
  },
  {
   "cell_type": "code",
   "execution_count": 140,
   "metadata": {},
   "outputs": [],
   "source": [
    "bigram_counts={}\n",
    "for sent in sents:\n",
    "    for w in ngrams(sent.split(),2, pad_left=True,pad_right=True,left_pad_symbol='<s>',right_pad_symbol='</s>'):\n",
    "        if(w not in bigram_counts):\n",
    "            bigram_counts[w]=1\n",
    "        else:\n",
    "            bigram_counts[w]+=1\n",
    "bigram_LM= bigram_model(sents)"
   ]
  },
  {
   "cell_type": "code",
   "execution_count": 141,
   "metadata": {},
   "outputs": [],
   "source": [
    "sorted_bigram_counts=sorted(bigram_counts.items(), key=operator.itemgetter(1),reverse=True)"
   ]
  },
  {
   "cell_type": "code",
   "execution_count": 142,
   "metadata": {},
   "outputs": [
    {
     "data": {
      "image/png": "[encoded data removed]",
      "text/plain": [
       "<Figure size 432x288 with 1 Axes>"
      ]
     },
     "metadata": {},
     "output_type": "display_data"
    }
   ],
   "source": [
    "x=[np.log(i+1) for i in range(len(sorted_bigram_counts))]\n",
    "y=np.asarray(list(np.log(y[1]) for y in sorted_bigram_counts[:]))\n",
    "plot(x,y,'Bigram LM Plot')"
   ]
  },
  {
   "cell_type": "code",
   "execution_count": 143,
   "metadata": {},
   "outputs": [],
   "source": [
    "trigram_counts={}\n",
    "for sent in sents:\n",
    "    for w in ngrams(sent.split(),3, pad_left=True,pad_right=True,left_pad_symbol='<s>',right_pad_symbol='</s>'):\n",
    "        if(w not in trigram_counts):\n",
    "            trigram_counts[w]=1\n",
    "        else:\n",
    "            trigram_counts[w]+=1\n",
    "\n",
    "trigram_LM= trigram_model(sents)"
   ]
  },
  {
   "cell_type": "code",
   "execution_count": 144,
   "metadata": {},
   "outputs": [],
   "source": [
    "sorted_trigram_counts=sorted(trigram_counts.items(), key=operator.itemgetter(1),reverse=True)"
   ]
  },
  {
   "cell_type": "code",
   "execution_count": 145,
   "metadata": {},
   "outputs": [
    {
     "data": {
      "image/png": "[encoded data removed]",
      "text/plain": [
       "<Figure size 432x288 with 1 Axes>"
      ]
     },
     "metadata": {},
     "output_type": "display_data"
    }
   ],
   "source": [
    "x=[np.log(i+1) for i in range(len(sorted_trigram_counts))]\n",
    "y=np.asarray(list(np.log(y[1]) for y in sorted_trigram_counts))\n",
    "plot(x,y,'Trigram LM Plot')"
   ]
  },
  {
   "cell_type": "markdown",
   "metadata": {},
   "source": [
    "## Testing (without smoothing)"
   ]
  },
  {
   "cell_type": "code",
   "execution_count": 146,
   "metadata": {},
   "outputs": [],
   "source": [
    "test_sents=get_test_sentences()\n",
    "#test_sents=['it recommended that fulton legislators act to have these laws studied and revised to the end of modernizing and improving them ']"
   ]
  },
  {
   "cell_type": "code",
   "execution_count": 147,
   "metadata": {},
   "outputs": [
    {
     "name": "stdout",
     "output_type": "stream",
     "text": [
      "Unigram test probabilities: \n",
      "\n",
      "The sequence \"he lived a good life  \" has unigram probablity of -32.61637181331728\n",
      "The sequence \"the man was happy  \" has unigram probablity of -23.897270970344053\n",
      "The sequence \"the person was good  \" has unigram probablity of -23.326684213898012\n",
      "The sequence \"the girl was sad  \" has unigram probablity of -27.222336320670067\n",
      "The sequence \"he won the war \" has unigram probablity of -24.106951714822433\n"
     ]
    }
   ],
   "source": [
    "test_unigram_arr=[]\n",
    "print('Unigram test probabilities: ')\n",
    "print()\n",
    "for sent in test_sents:\n",
    "    try:\n",
    "        p_val=np.sum([np.log(unigram_freq[word]) for word in sent.split()])\n",
    "    except Exception as e:\n",
    "        p_val=-np.inf\n",
    "    test_unigram_arr.append(p_val)\n",
    "    print('The sequence \\\"'+sent+' \\\" has unigram probablity of '+ str(p_val))\n"
   ]
  },
  {
   "cell_type": "code",
   "execution_count": 148,
   "metadata": {},
   "outputs": [
    {
     "name": "stdout",
     "output_type": "stream",
     "text": [
      "The sequence \"he lived a good life \" has bigram probablity of -26.88656843222555\n",
      "The sequence \"the man was happy \" has bigram probablity of -22.06160121911623\n",
      "The sequence \"the person was good \" has bigram probablity of -24.839981504247724\n",
      "The sequence \"the girl was sad \" has bigram probablity of -inf\n",
      "The sequence \"he won the war\" has bigram probablity of -20.079546963054263\n"
     ]
    }
   ],
   "source": [
    "test_bigram_arr=[]\n",
    "for sent in test_sents:\n",
    "    p_val=0\n",
    "    for w1,w2 in bigrams(sent.split(),pad_left=True,pad_right=True,left_pad_symbol='<s>',right_pad_symbol='</s>'):\n",
    "        if w1 in bigram_LM:\n",
    "            try:\n",
    "                p_val+=np.log(bigram_LM[w1][w2])\n",
    "            except Exception as e:\n",
    "                p_val=-np.inf\n",
    "                break\n",
    "        else:\n",
    "            p_val=-np.inf\n",
    "            break\n",
    "    print('The sequence \\\"'+ sent +'\\\" has bigram probablity of '+ str(p_val))\n",
    "    test_bigram_arr.append(p_val)"
   ]
  },
  {
   "cell_type": "code",
   "execution_count": 149,
   "metadata": {},
   "outputs": [
    {
     "name": "stdout",
     "output_type": "stream",
     "text": [
      "Trigram test probabilities: \n",
      "The sequence \"he lived a good life \" has trigram probablity of -inf\n",
      "The sequence \"the man was happy \" has trigram probablity of -inf\n",
      "The sequence \"the person was good \" has trigram probablity of -inf\n",
      "The sequence \"the girl was sad \" has trigram probablity of -inf\n",
      "The sequence \"he won the war\" has trigram probablity of -16.519106408717104\n"
     ]
    }
   ],
   "source": [
    "test_trigram_arr=[]\n",
    "print('Trigram test probabilities: ')\n",
    "for sent in test_sents:\n",
    "    p_val=0\n",
    "    for w1,w2,w3 in trigrams(sent.split(),pad_left=True,pad_right=True,left_pad_symbol='<s>',right_pad_symbol='</s>'):\n",
    "        try:\n",
    "            p_val+=np.log(trigram_LM[(w1,w2)][w3])\n",
    "        except Exception as e:\n",
    "            p_val=-np.inf\n",
    "            break\n",
    "    print('The sequence \\\"'+ sent +'\\\" has trigram probablity of '+ str(p_val))\n",
    "    \n",
    "    test_trigram_arr.append(p_val)"
   ]
  },
  {
   "cell_type": "markdown",
   "metadata": {},
   "source": [
    "## Laplace/ Additive Smoothing"
   ]
  },
  {
   "cell_type": "code",
   "execution_count": 150,
   "metadata": {},
   "outputs": [],
   "source": [
    "k_list=[pow(10,i) for i in range(-4,1)]"
   ]
  },
  {
   "cell_type": "code",
   "execution_count": 151,
   "metadata": {},
   "outputs": [
    {
     "name": "stdout",
     "output_type": "stream",
     "text": [
      "Bigram test probabilities with Laplacian/ Additive Smoothing with k as 0.0001 : \n",
      "The sequence \"he lived a good life \" has bigram probablity of -27.450457580648504\n",
      "The sequence \"the man was happy \" has bigram probablity of -22.58165390931804\n",
      "The sequence \"the person was good \" has bigram probablity of -25.12819840502108\n",
      "The sequence \"the girl was sad \" has bigram probablity of -35.620729356365686\n",
      "The sequence \"he won the war\" has bigram probablity of -20.456565445354194\n",
      "\n",
      "\n",
      "Bigram test probabilities with Laplacian/ Additive Smoothing with k as 0.001 : \n",
      "The sequence \"he lived a good life \" has bigram probablity of -29.776496226080162\n",
      "The sequence \"the man was happy \" has bigram probablity of -24.43511962952826\n",
      "The sequence \"the person was good \" has bigram probablity of -26.623073590610694\n",
      "The sequence \"the girl was sad \" has bigram probablity of -36.53254678037089\n",
      "The sequence \"he won the war\" has bigram probablity of -22.22648806992158\n",
      "\n",
      "\n",
      "Bigram test probabilities with Laplacian/ Additive Smoothing with k as 0.01 : \n",
      "The sequence \"he lived a good life \" has bigram probablity of -35.52413150611362\n",
      "The sequence \"the man was happy \" has bigram probablity of -28.43123374424261\n",
      "The sequence \"the person was good \" has bigram probablity of -30.603547227775923\n",
      "The sequence \"the girl was sad \" has bigram probablity of -39.08987887179861\n",
      "The sequence \"he won the war\" has bigram probablity of -26.48854426052776\n",
      "\n",
      "\n",
      "Bigram test probabilities with Laplacian/ Additive Smoothing with k as 0.1 : \n",
      "The sequence \"he lived a good life \" has bigram probablity of -44.92939079782224\n",
      "The sequence \"the man was happy \" has bigram probablity of -35.21258651844629\n",
      "The sequence \"the person was good \" has bigram probablity of -37.34435757819358\n",
      "The sequence \"the girl was sad \" has bigram probablity of -43.69734042331139\n",
      "The sequence \"he won the war\" has bigram probablity of -33.44297102455045\n",
      "\n",
      "\n",
      "Bigram test probabilities with Laplacian/ Additive Smoothing with k as 1 : \n",
      "The sequence \"he lived a good life \" has bigram probablity of -56.2243884258554\n",
      "The sequence \"the man was happy \" has bigram probablity of -44.64966045451074\n",
      "The sequence \"the person was good \" has bigram probablity of -46.36756311868861\n",
      "The sequence \"the girl was sad \" has bigram probablity of -50.52115936583429\n",
      "The sequence \"he won the war\" has bigram probablity of -43.16189467805216\n",
      "\n",
      "\n"
     ]
    }
   ],
   "source": [
    "test_bigram_arr=[]\n",
    "num_unique_bigrams=len(bigram_counts.values())\n",
    "for k in k_list:\n",
    "\n",
    "    print('Bigram test probabilities with Laplacian/ Additive Smoothing with k as',k,': ')\n",
    "    for sent in test_sents:\n",
    "        p_val=0\n",
    "        for w1,w2 in bigrams(sent.split(),pad_left=True,pad_right=True,left_pad_symbol='<s>',right_pad_symbol='</s>'):\n",
    "            p_val+=laplacian_bigram_model(w1,w2,bigram_counts,unigram_counts,k,num_unique_bigrams)\n",
    "\n",
    "        print('The sequence \\\"'+ sent +'\\\" has bigram probablity of '+ str(p_val))\n",
    "        test_bigram_arr.append(p_val)\n",
    "    print(\"\\n\")"
   ]
  },
  {
   "cell_type": "code",
   "execution_count": 152,
   "metadata": {},
   "outputs": [
    {
     "name": "stdout",
     "output_type": "stream",
     "text": [
      "Trigram test probabilities with Laplacian/ Additive Smoothing with k as 0.0001 : \n",
      "\n",
      "The sequence \"he lived a good life \" has trigram probablity of -52.46606168633371\n",
      "The sequence \"the man was happy \" has trigram probablity of -38.76649747678443\n",
      "The sequence \"the person was good \" has trigram probablity of -39.86328829743057\n",
      "The sequence \"the girl was sad \" has trigram probablity of -43.39338538423813\n",
      "The sequence \"he won the war\" has trigram probablity of -18.413719625045335\n",
      "\n",
      "\n",
      "Trigram test probabilities with Laplacian/ Additive Smoothing with k as 0.001 : \n",
      "\n",
      "The sequence \"he lived a good life \" has trigram probablity of -55.70750795747099\n",
      "The sequence \"the man was happy \" has trigram probablity of -42.47820888908575\n",
      "The sequence \"the person was good \" has trigram probablity of -43.93749255001991\n",
      "The sequence \"the girl was sad \" has trigram probablity of -47.960908316967114\n",
      "The sequence \"he won the war\" has trigram probablity of -26.659171387525458\n",
      "\n",
      "\n",
      "Trigram test probabilities with Laplacian/ Additive Smoothing with k as 0.01 : \n",
      "\n",
      "The sequence \"he lived a good life \" has trigram probablity of -62.63284245989034\n",
      "The sequence \"the man was happy \" has trigram probablity of -48.218204527816894\n",
      "The sequence \"the person was good \" has trigram probablity of -49.74040103040254\n",
      "The sequence \"the girl was sad \" has trigram probablity of -53.816223987967334\n",
      "The sequence \"he won the war\" has trigram probablity of -38.31376498376945\n",
      "\n",
      "\n",
      "Trigram test probabilities with Laplacian/ Additive Smoothing with k as 0.1 : \n",
      "\n",
      "The sequence \"he lived a good life \" has trigram probablity of -71.3404192002819\n",
      "The sequence \"the man was happy \" has trigram probablity of -56.27637987932008\n",
      "The sequence \"the person was good \" has trigram probablity of -57.725560426122236\n",
      "The sequence \"the girl was sad \" has trigram probablity of -61.71037330105102\n",
      "The sequence \"he won the war\" has trigram probablity of -51.53525369383889\n",
      "\n",
      "\n",
      "Trigram test probabilities with Laplacian/ Additive Smoothing with k as 1 : \n",
      "\n",
      "The sequence \"he lived a good life \" has trigram probablity of -79.64743953940275\n",
      "The sequence \"the man was happy \" has trigram probablity of -64.99646268688684\n",
      "The sequence \"the person was good \" has trigram probablity of -65.90777480676253\n",
      "The sequence \"the girl was sad \" has trigram probablity of -69.2158099416792\n",
      "The sequence \"he won the war\" has trigram probablity of -63.67408372202688\n",
      "\n",
      "\n"
     ]
    }
   ],
   "source": [
    "num_unique_trigrams=len(trigram_counts.values())\n",
    "for k in k_list:\n",
    "    test_trigram_arr=[]\n",
    "    print('Trigram test probabilities with Laplacian/ Additive Smoothing with k as',k,': \\n')\n",
    "    for sent in test_sents:\n",
    "        p_val=0\n",
    "        for w1,w2,w3 in trigrams(sent.split(),pad_left=True,pad_right=True,left_pad_symbol='<s>',right_pad_symbol='</s>'):\n",
    "            p_val+=laplacian_trigram_model(w1,w2,w3,trigram_counts,bigram_counts,k,num_unique_trigrams)\n",
    "        print('The sequence \\\"'+ sent +'\\\" has trigram probablity of '+ str(p_val))\n",
    "\n",
    "        test_trigram_arr.append(p_val)\n",
    "    print(\"\\n\")"
   ]
  },
  {
   "cell_type": "markdown",
   "metadata": {},
   "source": [
    "## Interpolation Models"
   ]
  },
  {
   "cell_type": "code",
   "execution_count": 153,
   "metadata": {},
   "outputs": [],
   "source": [
    "def interpolation_bigram(w1,w2,Lambda,bigram_counts,unigram_counts):\n",
    "    num_unigrams=len(unigram_counts.values())\n",
    "    if (w1 in unigram_counts):\n",
    "        probability= Lambda*((bigram_counts.get((w1,w2),0))/(unigram_counts.get(w1,0))) +(1-Lambda)*(unigram_counts.get(w1,0)/num_unigrams)\n",
    "    else:\n",
    "        print(w1)\n",
    "        return -np.inf\n",
    "    if(probability==0):\n",
    "        return -np.inf\n",
    "    else:\n",
    "        return np.log(probability)"
   ]
  },
  {
   "cell_type": "code",
   "execution_count": 154,
   "metadata": {},
   "outputs": [
    {
     "name": "stdout",
     "output_type": "stream",
     "text": [
      "Bigram test probabilities with Interpolation with lambda as 0.2 : \n",
      "The sequence \"he lived a good life \" has bigram probablity of -15.87248011239857\n",
      "The sequence \"the man was happy \" has bigram probablity of -9.448871116761818\n",
      "The sequence \"the person was good \" has bigram probablity of -10.975486142101563\n",
      "The sequence \"the girl was sad \" has bigram probablity of -10.753960661875333\n",
      "The sequence \"he won the war\" has bigram probablity of -8.715318554854898\n",
      "\n",
      "\n",
      "Bigram test probabilities with Interpolation with lambda as 0.5 : \n",
      "The sequence \"he lived a good life \" has bigram probablity of -16.262783895891527\n",
      "The sequence \"the man was happy \" has bigram probablity of -9.965106482793885\n",
      "The sequence \"the person was good \" has bigram probablity of -11.640314732890428\n",
      "The sequence \"the girl was sad \" has bigram probablity of -10.563277185290215\n",
      "The sequence \"he won the war\" has bigram probablity of -8.48946188317287\n",
      "\n",
      "\n",
      "Bigram test probabilities with Interpolation with lambda as 0.8 : \n",
      "The sequence \"he lived a good life \" has bigram probablity of -18.71248186785077\n",
      "The sequence \"the man was happy \" has bigram probablity of -12.026298459802076\n",
      "The sequence \"the person was good \" has bigram probablity of -13.596971885363224\n",
      "The sequence \"the girl was sad \" has bigram probablity of -12.16940868709579\n",
      "The sequence \"he won the war\" has bigram probablity of -10.236636992430544\n",
      "\n",
      "\n"
     ]
    }
   ],
   "source": [
    "test_bigram_arr=[]\n",
    "lambda_list=[0.2, 0.5, 0.8]\n",
    "num_unique_bigrams=len(bigram_counts.values())\n",
    "for Lambda in lambda_list:\n",
    "\n",
    "    print('Bigram test probabilities with Interpolation with lambda as',Lambda,': ')\n",
    "    for sent in test_sents:\n",
    "        p_val=0\n",
    "        for w1,w2 in bigrams(sent.split(),pad_left=True,pad_right=True,left_pad_symbol='<s>',right_pad_symbol='</s>'):\n",
    "            p_val+=interpolation_bigram(w1,w2,Lambda,bigram_counts,unigram_counts)\n",
    "\n",
    "        print('The sequence \\\"'+ sent +'\\\" has bigram probablity of '+ str(p_val))\n",
    "        test_bigram_arr.append(p_val)\n",
    "    print(\"\\n\")"
   ]
  },
  {
   "cell_type": "code",
   "execution_count": null,
   "metadata": {},
   "outputs": [],
   "source": []
  }
 ],
 "metadata": {
  "kernelspec": {
   "display_name": "Python 2",
   "language": "python",
   "name": "python2"
  },
  "language_info": {
   "codemirror_mode": {
    "name": "ipython",
    "version": 3
   },
   "file_extension": ".py",
   "mimetype": "text/x-python",
   "name": "python",
   "nbconvert_exporter": "python",
   "pygments_lexer": "ipython3",
   "version": "3.6.5"
  }
 },
 "nbformat": 4,
 "nbformat_minor": 2
}

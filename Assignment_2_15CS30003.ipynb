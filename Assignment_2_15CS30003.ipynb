{
 "cells": [
  {
   "cell_type": "code",
   "execution_count": 1,
   "metadata": {},
   "outputs": [],
   "source": [
    "from __future__ import division\n",
    "import nltk\n",
    "import copy\n",
    "import re\n",
    "import scipy.stats\n",
    "import matplotlib.pyplot as plt\n",
    "import numpy as np\n",
    "import sklearn_crfsuite\n",
    "from sklearn_crfsuite import scorers\n",
    "from sklearn_crfsuite import metrics\n",
    "from nltk.corpus import brown\n",
    "from nltk import bigrams, ngrams, trigrams \n",
    "from nltk.probability import FreqDist as FreqDist  \n",
    "from numpy.polynomial.polynomial import polyfit\n",
    "from collections import Counter\n",
    "from string import digits\n",
    "from scipy import stats\n",
    "import operator\n",
    "from collections import OrderedDict\n",
    "from sklearn.metrics import make_scorer\n",
    "from sklearn.model_selection import RandomizedSearchCV"
   ]
  },
  {
   "cell_type": "markdown",
   "metadata": {},
   "source": [
    "# Get the Data"
   ]
  },
  {
   "cell_type": "code",
   "execution_count": 2,
   "metadata": {},
   "outputs": [],
   "source": [
    "from nltk.corpus import treebank,brown\n",
    "\n",
    "corpus = brown.tagged_sents(tagset='universal')[:-100] \n",
    "\n",
    "tag_dict={}\n",
    "word_dict={}\n",
    "\n",
    "for sent in corpus:\n",
    "    for elem in sent:\n",
    "        w = elem[0]\n",
    "        tag= elem[1]\n",
    "\n",
    "        if w not in word_dict:\n",
    "            word_dict[w]=0\n",
    "\n",
    "        if tag not in tag_dict:\n",
    "            tag_dict[tag]=0\n",
    "\n",
    "        word_dict[w]+=1\n",
    "        tag_dict[tag]+=1\n",
    "unigram_prob=dict()\n",
    "V=len(word_dict)\n",
    "for word in word_dict.keys():\n",
    "    unigram_prob[word]=word_dict[word]/V\n",
    "test_data= brown.tagged_sents(tagset='universal')[-100:]\n",
    "\n",
    "\n",
    "def sent2labels(sent):\n",
    "    return [label for _,label in sent]\n",
    "\n",
    "\n",
    "y_test=[sent2labels(s) for s in test_data]\n",
    "\n",
    "\n"
   ]
  },
  {
   "cell_type": "markdown",
   "metadata": {},
   "source": [
    "# Part I: POS Tagging with HMM"
   ]
  },
  {
   "cell_type": "markdown",
   "metadata": {},
   "source": [
    "## Build the start, emission and transition probability matrices for the HMM"
   ]
  },
  {
   "cell_type": "code",
   "execution_count": 3,
   "metadata": {},
   "outputs": [],
   "source": [
    "start={}                                               # Start matrix\n",
    "transition={}                                          # Transition matrix\n",
    "emission={}                                            # Emission matrix\n",
    "context={}\n",
    "for line in corpus:                                    # building the above three matrices from the data\n",
    "    previous='<s>'\n",
    "    for word,tag in line:\n",
    "        if(previous=='<s>'):                           # Handling first tag of the sentence(separately for start matrix)\n",
    "            if tag not in context:\n",
    "                context[tag]=0\n",
    "            context[tag]+=1\n",
    "            if tag not in start:\n",
    "                start[tag]=0.0\n",
    "            start[tag]+=1\n",
    "            previous=tag\n",
    "        else:                                          # Rest of the word-tag pairs\n",
    "            if tag not in context:\n",
    "                context[tag]=0\n",
    "            context[tag]+=1\n",
    "            if previous not in transition:\n",
    "                transition[previous]={}\n",
    "            if tag not in transition[previous]:\n",
    "                transition[previous][tag]=0\n",
    "            transition[previous][tag]+=1\n",
    "            previous=tag\n",
    "        if tag not in emission:\n",
    "            emission[tag]={}\n",
    "        if word not in emission[tag]:\n",
    "            emission[tag][word]=0\n",
    "        emission[tag][word]+=1\n",
    "    if '</s>' not in transition[previous]:            # including transitions to the accept state '</s>'\n",
    "        transition[previous]['</s>']=0\n",
    "    transition[previous]['</s>']+=1\n",
    "emission_raw=copy.deepcopy(emission)\n",
    "for tag in transition:                                 # Normalizing the counts into probability scores\n",
    "    total_count=float(sum(transition[tag].values())) \n",
    "    for next_tag in transition[tag]:\n",
    "        transition[tag][next_tag]/=(total_count)\n",
    "for tag in start:                                      # Normalizing the counts into probability scores\n",
    "    start[tag]/=float(len(corpus))\n",
    "\n",
    "for tag in emission:                                   # Normalizing the counts into probability scores\n",
    "    total_count=float(sum(emission[tag].values())) \n",
    "    for word in emission[tag]:\n",
    "        emission[tag][word]/=(total_count)        "
   ]
  },
  {
   "cell_type": "markdown",
   "metadata": {},
   "source": [
    "## POS Taggging with HMM Model and Additive Smoothing"
   ]
  },
  {
   "cell_type": "code",
   "execution_count": 4,
   "metadata": {},
   "outputs": [],
   "source": [
    "def smoothed_emission(tag, word,delta):                          # Emission probabilities with additive smoothing\n",
    "    count_pair=emission_raw[tag].get(word,0)\n",
    "    prob=(count_pair+delta)/(context[tag]+delta*V)\n",
    "    return prob\n",
    "\n",
    "def log(x):\n",
    "    if (x==0 ):\n",
    "        return -np.inf\n",
    "    else:\n",
    "        return np.log(x)\n",
    "    \n",
    "def pos_tagger(sentence,delta):\n",
    "    viterbi_scores=dict()                                         # Implementation of Viterbi algorithm to find the most probable tag sequence\n",
    "    backpointer=dict()\n",
    "    N=len(context.keys())                                         # Number of states except accept state '</s>'\n",
    "    T=len(sentence)\n",
    "    words=['dummy']\n",
    "    words.extend(sentence)\n",
    "    for s in context.keys():                                      # Initialization Step\n",
    "        viterbi_scores[s,1]=log((start.get(s,0))*smoothed_emission(s,words[1],delta))\n",
    "        backpointer[s,1]=0\n",
    "    for t in range(2,T+1):                                        # Recursion Step\n",
    "        for s in context.keys():\n",
    "            max_prob=-np.inf\n",
    "            for s1 in context.keys():\n",
    "                prob=viterbi_scores[s1,t-1]\n",
    "                prob+=log(transition[s1].get(s,0))\n",
    "                prob+=log(smoothed_emission(s,words[t],delta))\n",
    "                if(prob>=max_prob):\n",
    "                    viterbi_scores[s,t]=prob\n",
    "                    backpointer[s,t]=s1\n",
    "                    max_prob=prob\n",
    "    max_prob=-np.inf\n",
    "    for s in context.keys():                                      # Termination Step                                 \n",
    "        prob=(viterbi_scores[s,T])+log(transition[s].get('</s>',0))\n",
    "        if prob>=max_prob:\n",
    "            max_prob=prob\n",
    "            viterbi_scores['</s>',T+1]=prob\n",
    "            backpointer['</s>',T+1]=s      \n",
    "    tag_sequence=list()\n",
    "    tag='</s>'\n",
    "    tag_sequence.append(tag)\n",
    "    for t in range(T+1,0,-1):                                     # Trace the backpointers to get the tag sequence\n",
    "        tag=backpointer[tag,t]\n",
    "        tag_sequence.append(tag)\n",
    "    tag_sequence.reverse()\n",
    "    tag_sequence=tag_sequence[1:len(tag_sequence)-1]\n",
    "    return tag_sequence"
   ]
  },
  {
   "cell_type": "markdown",
   "metadata": {},
   "source": [
    "## Model States"
   ]
  },
  {
   "cell_type": "code",
   "execution_count": 5,
   "metadata": {},
   "outputs": [
    {
     "data": {
      "text/plain": [
       "dict_keys(['DET', 'NOUN', 'ADJ', 'VERB', 'ADP', '.', 'ADV', 'CONJ', 'PRT', 'PRON', 'NUM', 'X'])"
      ]
     },
     "execution_count": 5,
     "metadata": {},
     "output_type": "execute_result"
    }
   ],
   "source": [
    "context.keys()                     # The POS Tags corresponding to the latent states of the HMM"
   ]
  },
  {
   "cell_type": "markdown",
   "metadata": {},
   "source": [
    "## Measuring accuracy on the test set"
   ]
  },
  {
   "cell_type": "code",
   "execution_count": 6,
   "metadata": {},
   "outputs": [],
   "source": [
    "def find_accuracy(predicted_tags, test_tags):\n",
    "    num_sentences=len(predicted_tags)\n",
    "    scores=list()\n",
    "    total_count=0\n",
    "    num_tags=0\n",
    "    for i in range(num_sentences):\n",
    "        count=0\n",
    "        predicted=predicted_tags[i]\n",
    "        test=test_tags[i]\n",
    "        len_sentence=len(test)\n",
    "        for j in range(len_sentence):\n",
    "            if(predicted[j]==test[j]):\n",
    "                count+=1\n",
    "                total_count+=1\n",
    "        scores.append(count/len_sentence)\n",
    "        num_tags+=len_sentence\n",
    "    print(total_count/num_tags)\n",
    "    return np.mean(np.asarray(scores))"
   ]
  },
  {
   "cell_type": "code",
   "execution_count": 7,
   "metadata": {},
   "outputs": [],
   "source": [
    "test_sentences=[[word[0] for word in sentence] for sentence in test_data]\n",
    "test_tags=[[word[1] for word in sentence] for sentence in test_data]"
   ]
  },
  {
   "cell_type": "code",
   "execution_count": 8,
   "metadata": {},
   "outputs": [],
   "source": [
    "predicted_tags=[pos_tagger(sentence,0.001) for sentence in test_sentences]"
   ]
  },
  {
   "cell_type": "code",
   "execution_count": 9,
   "metadata": {
    "scrolled": false
   },
   "outputs": [
    {
     "data": {
      "text/plain": [
       "0.9252161317133518"
      ]
     },
     "execution_count": 9,
     "metadata": {},
     "output_type": "execute_result"
    }
   ],
   "source": [
    "metrics.flat_f1_score(y_test, predicted_tags,average='weighted')"
   ]
  },
  {
   "cell_type": "code",
   "execution_count": 10,
   "metadata": {},
   "outputs": [
    {
     "name": "stdout",
     "output_type": "stream",
     "text": [
      "             precision    recall  f1-score   support\n",
      "\n",
      "          .      0.977     0.997     0.987       334\n",
      "        ADJ      0.804     0.879     0.840       140\n",
      "        ADP      0.951     0.958     0.954       283\n",
      "        ADV      0.797     0.823     0.810       124\n",
      "       CONJ      0.913     1.000     0.955        84\n",
      "        DET      0.977     0.990     0.983       295\n",
      "       NOUN      0.953     0.849     0.898       483\n",
      "        NUM      0.455     0.952     0.615        21\n",
      "       PRON      0.958     0.994     0.975       160\n",
      "        PRT      0.890     0.929     0.909        70\n",
      "       VERB      0.962     0.884     0.921       370\n",
      "          X      0.367     0.647     0.468        17\n",
      "\n",
      "avg / total      0.932     0.923     0.925      2381\n",
      "\n"
     ]
    }
   ],
   "source": [
    "\n",
    "print(metrics.flat_classification_report( y_test, predicted_tags, digits=3\n",
    "))"
   ]
  },
  {
   "cell_type": "markdown",
   "metadata": {},
   "source": [
    "# Part II: POS Tagging with CRF"
   ]
  },
  {
   "cell_type": "code",
   "execution_count": 3,
   "metadata": {},
   "outputs": [],
   "source": [
    "train_sents= corpus\n",
    "\n",
    "def baselineFeatures(sent,i):\n",
    "    word = sent[i][0]\n",
    "    postag = sent[i][1]\n",
    "\n",
    "    # Common features for all words\n",
    "    features = {\n",
    "        'bias':1.0,\n",
    "        'word.lower': word.lower(),\n",
    "    }\n",
    "    return features\n",
    " \n",
    "def word2features(sent,i):\n",
    "    word = sent[i][0]\n",
    "    postag = sent[i][1]\n",
    "\n",
    "    # Common features for all words\n",
    "    features = {\n",
    "        'bias':1.0,\n",
    "        'word': word.lower(),\n",
    "        'prefix-2':word[:2],\n",
    "        'prefix-3':word[:3],\n",
    "        'suffix-1':word[-1],\n",
    "        'suffix-2':word[-2:],\n",
    "        'suffix-3':word[-3:],\n",
    "        'has_hyphen': '-' in word,\n",
    "        'word.isupper': word.isupper(),\n",
    "        'word.istitle': word.istitle(),\n",
    "        'word.isdigit': word.isdigit(),\n",
    "    }\n",
    "\n",
    "    # Features for words that are not\n",
    "    # at the beginning of a sentument\n",
    "    if i > 0:\n",
    "        word1 = sent[i-1][0]\n",
    "        postag1 = sent[i-1][1]\n",
    "        features.update({\n",
    "            'previous_word' : word1.lower(),\n",
    "            'prev_prefix-2':word1[:2],\n",
    "            'prev_prefix-3':word1[:3],\n",
    "            'prev_suffix-1':word1[-1],\n",
    "            'prev_suffix-2':word1[-2:],\n",
    "           'prev_suffix-3':word1[-3:],\n",
    "            'prev_word.istitle' : word1.istitle(),\n",
    "            'prev_word.isupper' : word1.isupper(),\n",
    "            'prev_word.isdigit' : word1.isdigit(),\n",
    "            \n",
    "        })\n",
    "    else:\n",
    "        # Indicate that it is the 'beginning of a sentence'\n",
    "        features.update({'BOS':True})\n",
    "\n",
    "    # Features for words that are not\n",
    "    # at the end of a sentument\n",
    "    if i < len(sent)-1:\n",
    "        word1 = sent[i+1][0]\n",
    "        postag1 = sent[i+1][1]\n",
    "        features.update({\n",
    "            'next_word.lower': word1.lower(),\n",
    "            'next_prefix-2':word1[:2],\n",
    "            'next_prefix-3':word1[:3],\n",
    "            'next_suffix-1':word1[-1],\n",
    "            'next_suffix-2':word1[-2:],\n",
    "            'next_suffix-3':word1[-3:],\n",
    "           'next_word.istitle' :word1.istitle(),\n",
    "           'next_word.isupper' : word1.isupper(),\n",
    "           'next_word.isdigit' : word1.isdigit(),\n",
    "            \n",
    "        })\n",
    "    else:\n",
    "        # Indicate that it is the 'end of a sentument'\n",
    "        features.update({'EOS':True})\n",
    "\n",
    "    return features\n",
    "\n",
    "\n",
    "def sent2features(sent,baseline=False):\n",
    "    if(baseline):\n",
    "        return [baselineFeatures(sent,i) for i in range(len(sent))]\n",
    "    return [word2features(sent,i) for i in range(len(sent))]"
   ]
  },
  {
   "cell_type": "code",
   "execution_count": 4,
   "metadata": {},
   "outputs": [],
   "source": [
    "X_train=[sent2features(s) for s in train_sents]\n",
    "\n",
    "y_train=[sent2labels(s) for s in train_sents]\n",
    "\n",
    "X_test=[sent2features(s) for s in test_data]"
   ]
  },
  {
   "cell_type": "code",
   "execution_count": 5,
   "metadata": {},
   "outputs": [
    {
     "data": {
      "text/plain": [
       "CRF(algorithm='lbfgs', all_possible_states=None,\n",
       "  all_possible_transitions=True, averaging=None, c=None, c1=0.1, c2=0.1,\n",
       "  calibration_candidates=None, calibration_eta=None,\n",
       "  calibration_max_trials=None, calibration_rate=None,\n",
       "  calibration_samples=None, delta=None, epsilon=None, error_sensitive=None,\n",
       "  gamma=None, keep_tempfiles=None, linesearch=None, max_iterations=100,\n",
       "  max_linesearch=None, min_freq=None, model_filename=None,\n",
       "  num_memories=None, pa_type=None, period=None, trainer_cls=None,\n",
       "  variance=None, verbose=False)"
      ]
     },
     "execution_count": 5,
     "metadata": {},
     "output_type": "execute_result"
    }
   ],
   "source": [
    "\n",
    "crf = sklearn_crfsuite.CRF(\n",
    "    algorithm='lbfgs', \n",
    "    c1=0.1, \n",
    "    c2=0.1, \n",
    "    max_iterations=100, \n",
    "    all_possible_transitions=True\n",
    ")\n",
    "crf.fit(X_train, y_train)"
   ]
  },
  {
   "cell_type": "code",
   "execution_count": 6,
   "metadata": {},
   "outputs": [
    {
     "data": {
      "text/plain": [
       "0.9582535866534301"
      ]
     },
     "execution_count": 6,
     "metadata": {},
     "output_type": "execute_result"
    }
   ],
   "source": [
    "y_pred = crf.predict(X_test)\n",
    "labels=list(crf.classes_)\n",
    "\n",
    "metrics.flat_f1_score(y_test, y_pred, \n",
    "                      average='weighted', labels=labels)"
   ]
  },
  {
   "cell_type": "code",
   "execution_count": 7,
   "metadata": {},
   "outputs": [],
   "source": [
    "sorted_labels = sorted(\n",
    "    labels, \n",
    "    key=lambda name: (name[1:], name[0])\n",
    ")"
   ]
  },
  {
   "cell_type": "code",
   "execution_count": 8,
   "metadata": {},
   "outputs": [
    {
     "name": "stdout",
     "output_type": "stream",
     "text": [
      "             precision    recall  f1-score   support\n",
      "\n",
      "          .      1.000     1.000     1.000       334\n",
      "          X      1.000     0.176     0.300        17\n",
      "        ADJ      0.861     0.886     0.873       140\n",
      "        ADP      0.968     0.975     0.972       283\n",
      "        ADV      0.924     0.879     0.901       124\n",
      "       VERB      0.975     0.938     0.956       370\n",
      "        DET      0.997     1.000     0.998       295\n",
      "       CONJ      1.000     0.976     0.988        84\n",
      "       NOUN      0.927     0.967     0.946       483\n",
      "       PRON      1.000     1.000     1.000       160\n",
      "        PRT      0.883     0.971     0.925        70\n",
      "        NUM      0.955     1.000     0.977        21\n",
      "\n",
      "avg / total      0.961     0.960     0.958      2381\n",
      "\n"
     ]
    }
   ],
   "source": [
    "\n",
    "print(metrics.flat_classification_report(\n",
    "    y_test, y_pred, labels=sorted_labels, digits=3\n",
    "))"
   ]
  },
  {
   "cell_type": "markdown",
   "metadata": {},
   "source": [
    "## Hyperparameter Search"
   ]
  },
  {
   "cell_type": "code",
   "execution_count": 12,
   "metadata": {},
   "outputs": [
    {
     "name": "stdout",
     "output_type": "stream",
     "text": [
      "Fitting 3 folds for each of 20 candidates, totalling 60 fits\n",
      "[CV] c1=0.3750756963753804, c2=0.004186602148178022 ..................\n",
      "[CV]  c1=0.3750756963753804, c2=0.004186602148178022, score=0.9730147538922558, total= 4.0min\n",
      "[CV] c1=0.3750756963753804, c2=0.004186602148178022 ..................\n"
     ]
    },
    {
     "name": "stderr",
     "output_type": "stream",
     "text": [
      "[Parallel(n_jobs=1)]: Done   1 out of   1 | elapsed:  4.3min remaining:    0.0s\n"
     ]
    },
    {
     "name": "stdout",
     "output_type": "stream",
     "text": [
      "[CV]  c1=0.3750756963753804, c2=0.004186602148178022, score=0.9751866126648254, total= 3.7min\n",
      "[CV] c1=0.3750756963753804, c2=0.004186602148178022 ..................\n"
     ]
    },
    {
     "name": "stderr",
     "output_type": "stream",
     "text": [
      "[Parallel(n_jobs=1)]: Done   2 out of   2 | elapsed:  8.3min remaining:    0.0s\n"
     ]
    },
    {
     "name": "stdout",
     "output_type": "stream",
     "text": [
      "[CV]  c1=0.3750756963753804, c2=0.004186602148178022, score=0.9728417359456751, total= 4.6min\n",
      "[CV] c1=0.027057276857226205, c2=0.01308423634103991 .................\n"
     ]
    },
    {
     "name": "stderr",
     "output_type": "stream",
     "text": [
      "[Parallel(n_jobs=1)]: Done   3 out of   3 | elapsed: 13.2min remaining:    0.0s\n"
     ]
    },
    {
     "name": "stdout",
     "output_type": "stream",
     "text": [
      "[CV]  c1=0.027057276857226205, c2=0.01308423634103991, score=0.970883697331713, total= 3.9min\n",
      "[CV] c1=0.027057276857226205, c2=0.01308423634103991 .................\n"
     ]
    },
    {
     "name": "stderr",
     "output_type": "stream",
     "text": [
      "[Parallel(n_jobs=1)]: Done   4 out of   4 | elapsed: 17.5min remaining:    0.0s\n"
     ]
    },
    {
     "name": "stdout",
     "output_type": "stream",
     "text": [
      "[CV]  c1=0.027057276857226205, c2=0.01308423634103991, score=0.9738349823650709, total= 4.2min\n",
      "[CV] c1=0.027057276857226205, c2=0.01308423634103991 .................\n"
     ]
    },
    {
     "name": "stderr",
     "output_type": "stream",
     "text": [
      "[Parallel(n_jobs=1)]: Done   5 out of   5 | elapsed: 22.0min remaining:    0.0s\n"
     ]
    },
    {
     "name": "stdout",
     "output_type": "stream",
     "text": [
      "[CV]  c1=0.027057276857226205, c2=0.01308423634103991, score=0.9719800363240984, total= 5.2min\n",
      "[CV] c1=0.11052146942408986, c2=0.08898981749301955 ..................\n"
     ]
    },
    {
     "name": "stderr",
     "output_type": "stream",
     "text": [
      "[Parallel(n_jobs=1)]: Done   6 out of   6 | elapsed: 27.5min remaining:    0.0s\n"
     ]
    },
    {
     "name": "stdout",
     "output_type": "stream",
     "text": [
      "[CV]  c1=0.11052146942408986, c2=0.08898981749301955, score=0.9721245809117803, total= 3.9min\n",
      "[CV] c1=0.11052146942408986, c2=0.08898981749301955 ..................\n"
     ]
    },
    {
     "name": "stderr",
     "output_type": "stream",
     "text": [
      "[Parallel(n_jobs=1)]: Done   7 out of   7 | elapsed: 31.7min remaining:    0.0s\n"
     ]
    },
    {
     "name": "stdout",
     "output_type": "stream",
     "text": [
      "[CV]  c1=0.11052146942408986, c2=0.08898981749301955, score=0.9745849918359509, total= 3.8min\n",
      "[CV] c1=0.11052146942408986, c2=0.08898981749301955 ..................\n",
      "[CV]  c1=0.11052146942408986, c2=0.08898981749301955, score=0.972021720235731, total= 4.8min\n",
      "[CV] c1=0.19769190429297595, c2=0.05475542511149445 ..................\n",
      "[CV]  c1=0.19769190429297595, c2=0.05475542511149445, score=0.9727294060590894, total= 4.4min\n",
      "[CV] c1=0.19769190429297595, c2=0.05475542511149445 ..................\n",
      "[CV]  c1=0.19769190429297595, c2=0.05475542511149445, score=0.9748727658621332, total= 4.1min\n",
      "[CV] c1=0.19769190429297595, c2=0.05475542511149445 ..................\n",
      "[CV]  c1=0.19769190429297595, c2=0.05475542511149445, score=0.9723959328824507, total= 4.8min\n",
      "[CV] c1=0.9867476227124493, c2=0.011227156621950741 ..................\n",
      "[CV]  c1=0.9867476227124493, c2=0.011227156621950741, score=0.9721769574176718, total= 4.0min\n",
      "[CV] c1=0.9867476227124493, c2=0.011227156621950741 ..................\n",
      "[CV]  c1=0.9867476227124493, c2=0.011227156621950741, score=0.974712783646146, total= 3.8min\n",
      "[CV] c1=0.9867476227124493, c2=0.011227156621950741 ..................\n",
      "[CV]  c1=0.9867476227124493, c2=0.011227156621950741, score=0.9710909690905571, total= 5.0min\n",
      "[CV] c1=0.0035591059256005787, c2=0.005878721819062952 ...............\n",
      "[CV]  c1=0.0035591059256005787, c2=0.005878721819062952, score=0.9694323512688324, total= 4.0min\n",
      "[CV] c1=0.0035591059256005787, c2=0.005878721819062952 ...............\n",
      "[CV]  c1=0.0035591059256005787, c2=0.005878721819062952, score=0.9723755566610082, total= 4.6min\n",
      "[CV] c1=0.0035591059256005787, c2=0.005878721819062952 ...............\n",
      "[CV]  c1=0.0035591059256005787, c2=0.005878721819062952, score=0.9707997119515173, total= 4.7min\n",
      "[CV] c1=0.06276036063109804, c2=0.07432796472897324 ..................\n",
      "[CV]  c1=0.06276036063109804, c2=0.07432796472897324, score=0.9718640320639635, total= 4.0min\n",
      "[CV] c1=0.06276036063109804, c2=0.07432796472897324 ..................\n",
      "[CV]  c1=0.06276036063109804, c2=0.07432796472897324, score=0.9745519268214511, total= 4.0min\n",
      "[CV] c1=0.06276036063109804, c2=0.07432796472897324 ..................\n",
      "[CV]  c1=0.06276036063109804, c2=0.07432796472897324, score=0.9719716701948377, total= 4.9min\n",
      "[CV] c1=0.6839704302930507, c2=0.1333586514706103 ....................\n",
      "[CV]  c1=0.6839704302930507, c2=0.1333586514706103, score=0.971704808816363, total= 4.0min\n",
      "[CV] c1=0.6839704302930507, c2=0.1333586514706103 ....................\n",
      "[CV]  c1=0.6839704302930507, c2=0.1333586514706103, score=0.974401824583566, total= 3.8min\n",
      "[CV] c1=0.6839704302930507, c2=0.1333586514706103 ....................\n",
      "[CV]  c1=0.6839704302930507, c2=0.1333586514706103, score=0.9708664543286598, total= 4.5min\n",
      "[CV] c1=0.774097192227015, c2=0.03497556871321344 ....................\n",
      "[CV]  c1=0.774097192227015, c2=0.03497556871321344, score=0.9723192698011848, total= 4.0min\n",
      "[CV] c1=0.774097192227015, c2=0.03497556871321344 ....................\n",
      "[CV]  c1=0.774097192227015, c2=0.03497556871321344, score=0.9750372771901632, total= 4.0min\n",
      "[CV] c1=0.774097192227015, c2=0.03497556871321344 ....................\n",
      "[CV]  c1=0.774097192227015, c2=0.03497556871321344, score=0.9714305558835892, total= 5.0min\n",
      "[CV] c1=0.2570837310634762, c2=0.03925541407776756 ...................\n",
      "[CV]  c1=0.2570837310634762, c2=0.03925541407776756, score=0.9727985624289264, total= 4.7min\n",
      "[CV] c1=0.2570837310634762, c2=0.03925541407776756 ...................\n",
      "[CV]  c1=0.2570837310634762, c2=0.03925541407776756, score=0.9749863741744662, total= 4.3min\n",
      "[CV] c1=0.2570837310634762, c2=0.03925541407776756 ...................\n",
      "[CV]  c1=0.2570837310634762, c2=0.03925541407776756, score=0.9724583806151836, total= 4.5min\n",
      "[CV] c1=0.44640681537198995, c2=0.01723600069918387 ..................\n",
      "[CV]  c1=0.44640681537198995, c2=0.01723600069918387, score=0.9727423991749736, total= 4.0min\n",
      "[CV] c1=0.44640681537198995, c2=0.01723600069918387 ..................\n",
      "[CV]  c1=0.44640681537198995, c2=0.01723600069918387, score=0.9752060440576058, total= 3.8min\n",
      "[CV] c1=0.44640681537198995, c2=0.01723600069918387 ..................\n",
      "[CV]  c1=0.44640681537198995, c2=0.01723600069918387, score=0.9723248542708003, total= 4.6min\n",
      "[CV] c1=0.9442222733423724, c2=0.2300645422922429 ....................\n",
      "[CV]  c1=0.9442222733423724, c2=0.2300645422922429, score=0.9707868229397497, total= 4.4min\n",
      "[CV] c1=0.9442222733423724, c2=0.2300645422922429 ....................\n",
      "[CV]  c1=0.9442222733423724, c2=0.2300645422922429, score=0.9735412801437145, total= 4.1min\n",
      "[CV] c1=0.9442222733423724, c2=0.2300645422922429 ....................\n",
      "[CV]  c1=0.9442222733423724, c2=0.2300645422922429, score=0.9696232756652909, total= 5.3min\n",
      "[CV] c1=1.0596431084539484, c2=0.08086410120801407 ...................\n",
      "[CV]  c1=1.0596431084539484, c2=0.08086410120801407, score=0.9714513269107369, total= 4.0min\n",
      "[CV] c1=1.0596431084539484, c2=0.08086410120801407 ...................\n",
      "[CV]  c1=1.0596431084539484, c2=0.08086410120801407, score=0.9741956075764551, total= 3.8min\n",
      "[CV] c1=1.0596431084539484, c2=0.08086410120801407 ...................\n",
      "[CV]  c1=1.0596431084539484, c2=0.08086410120801407, score=0.9704220197875132, total= 4.4min\n",
      "[CV] c1=0.270772562070595, c2=0.025132224990978017 ...................\n",
      "[CV]  c1=0.270772562070595, c2=0.025132224990978017, score=0.9729471614545263, total= 4.0min\n",
      "[CV] c1=0.270772562070595, c2=0.025132224990978017 ...................\n",
      "[CV]  c1=0.270772562070595, c2=0.025132224990978017, score=0.9752920246538751, total= 3.7min\n",
      "[CV] c1=0.270772562070595, c2=0.025132224990978017 ...................\n",
      "[CV]  c1=0.270772562070595, c2=0.025132224990978017, score=0.97269951290669, total= 4.5min\n",
      "[CV] c1=0.745410287840794, c2=0.11741101727560527 ....................\n",
      "[CV]  c1=0.745410287840794, c2=0.11741101727560527, score=0.9718407774598034, total= 4.1min\n",
      "[CV] c1=0.745410287840794, c2=0.11741101727560527 ....................\n",
      "[CV]  c1=0.745410287840794, c2=0.11741101727560527, score=0.9745725312956265, total= 3.9min\n",
      "[CV] c1=0.745410287840794, c2=0.11741101727560527 ....................\n",
      "[CV]  c1=0.745410287840794, c2=0.11741101727560527, score=0.9707856928089356, total= 5.5min\n",
      "[CV] c1=0.039437145827509325, c2=0.010225752252553963 ................\n",
      "[CV]  c1=0.039437145827509325, c2=0.010225752252553963, score=0.9712889883405468, total= 4.0min\n",
      "[CV] c1=0.039437145827509325, c2=0.010225752252553963 ................\n",
      "[CV]  c1=0.039437145827509325, c2=0.010225752252553963, score=0.9738599930433779, total= 3.8min\n",
      "[CV] c1=0.039437145827509325, c2=0.010225752252553963 ................\n",
      "[CV]  c1=0.039437145827509325, c2=0.010225752252553963, score=0.9720735223133197, total= 4.7min\n",
      "[CV] c1=0.11104327077060391, c2=0.020620192393461897 .................\n",
      "[CV]  c1=0.11104327077060391, c2=0.020620192393461897, score=0.9722100005723141, total= 4.2min\n",
      "[CV] c1=0.11104327077060391, c2=0.020620192393461897 .................\n",
      "[CV]  c1=0.11104327077060391, c2=0.020620192393461897, score=0.974767618576162, total= 4.0min\n",
      "[CV] c1=0.11104327077060391, c2=0.020620192393461897 .................\n",
      "[CV]  c1=0.11104327077060391, c2=0.020620192393461897, score=0.9725010297411606, total= 5.1min\n",
      "[CV] c1=0.18445308888258583, c2=0.011419346315628676 .................\n",
      "[CV]  c1=0.18445308888258583, c2=0.011419346315628676, score=0.9727537436062841, total= 4.3min\n",
      "[CV] c1=0.18445308888258583, c2=0.011419346315628676 .................\n",
      "[CV]  c1=0.18445308888258583, c2=0.011419346315628676, score=0.975106385871274, total= 4.1min\n",
      "[CV] c1=0.18445308888258583, c2=0.011419346315628676 .................\n",
      "[CV]  c1=0.18445308888258583, c2=0.011419346315628676, score=0.9727116130428345, total= 4.5min\n",
      "[CV] c1=0.4529472410268434, c2=0.09151664374477841 ...................\n",
      "[CV]  c1=0.4529472410268434, c2=0.09151664374477841, score=0.9723613976003419, total= 3.9min\n",
      "[CV] c1=0.4529472410268434, c2=0.09151664374477841 ...................\n",
      "[CV]  c1=0.4529472410268434, c2=0.09151664374477841, score=0.9748460753056338, total= 4.2min\n",
      "[CV] c1=0.4529472410268434, c2=0.09151664374477841 ...................\n",
      "[CV]  c1=0.4529472410268434, c2=0.09151664374477841, score=0.9715105430480108, total= 5.0min\n",
      "[CV] c1=0.8702202130798201, c2=0.041512640564092686 ..................\n"
     ]
    },
    {
     "name": "stdout",
     "output_type": "stream",
     "text": [
      "[CV]  c1=0.8702202130798201, c2=0.041512640564092686, score=0.9720467696592147, total= 4.0min\n",
      "[CV] c1=0.8702202130798201, c2=0.041512640564092686 ..................\n",
      "[CV]  c1=0.8702202130798201, c2=0.041512640564092686, score=0.9746834442453632, total= 3.9min\n",
      "[CV] c1=0.8702202130798201, c2=0.041512640564092686 ..................\n",
      "[CV]  c1=0.8702202130798201, c2=0.041512640564092686, score=0.9711496363422599, total= 4.6min\n"
     ]
    },
    {
     "name": "stderr",
     "output_type": "stream",
     "text": [
      "[Parallel(n_jobs=1)]: Done  60 out of  60 | elapsed: 277.3min finished\n"
     ]
    },
    {
     "name": "stdout",
     "output_type": "stream",
     "text": [
      "CPU times: user 4h 44min 44s, sys: 36.6 s, total: 4h 45min 20s\n",
      "Wall time: 4h 43min 33s\n"
     ]
    }
   ],
   "source": [
    "%%time\n",
    "crf1 = sklearn_crfsuite.CRF(\n",
    "    algorithm='lbfgs', \n",
    "    max_iterations=100, \n",
    "    all_possible_transitions=True\n",
    ")\n",
    "params_space = {\n",
    "    'c1': scipy.stats.expon(scale=0.5),\n",
    "    'c2': scipy.stats.expon(scale=0.05),\n",
    "}\n",
    "\n",
    "# use the same metric for evaluation\n",
    "f1_scorer = make_scorer(metrics.flat_f1_score,\n",
    "                        average='weighted', labels=labels)\n",
    "\n",
    "# search\n",
    "rs = RandomizedSearchCV(crf1, params_space,\n",
    "                        cv=3,\n",
    "                        verbose=8,\n",
    "                        n_jobs=1,\n",
    "                        n_iter=20,\n",
    "                        scoring=f1_scorer)\n",
    "rs.fit(X_train, y_train)"
   ]
  },
  {
   "cell_type": "code",
   "execution_count": 13,
   "metadata": {},
   "outputs": [
    {
     "name": "stdout",
     "output_type": "stream",
     "text": [
      "best params: {'c1': 0.3750756963753804, 'c2': 0.004186602148178022}\n",
      "best CV score: 0.9736810341675853\n"
     ]
    }
   ],
   "source": [
    "crf = rs.best_estimator_\n",
    "print('best params:', rs.best_params_)\n",
    "print('best CV score:', rs.best_score_)"
   ]
  },
  {
   "cell_type": "code",
   "execution_count": 14,
   "metadata": {},
   "outputs": [
    {
     "name": "stdout",
     "output_type": "stream",
     "text": [
      "             precision    recall  f1-score   support\n",
      "\n",
      "          .      1.000     1.000     1.000       334\n",
      "          X      0.875     0.412     0.560        17\n",
      "        ADJ      0.848     0.879     0.863       140\n",
      "        ADP      0.975     0.979     0.977       283\n",
      "        ADV      0.923     0.871     0.896       124\n",
      "       VERB      0.969     0.943     0.956       370\n",
      "        DET      0.997     1.000     0.998       295\n",
      "       CONJ      1.000     0.976     0.988        84\n",
      "       NOUN      0.936     0.963     0.949       483\n",
      "       PRON      1.000     1.000     1.000       160\n",
      "        PRT      0.895     0.971     0.932        70\n",
      "        NUM      0.955     1.000     0.977        21\n",
      "\n",
      "avg / total      0.962     0.961     0.961      2381\n",
      "\n"
     ]
    }
   ],
   "source": [
    "y_pred = crf.predict(X_test)\n",
    "print(metrics.flat_classification_report(\n",
    "    y_test, y_pred, labels=sorted_labels, digits=3\n",
    "))"
   ]
  },
  {
   "cell_type": "code",
   "execution_count": 15,
   "metadata": {},
   "outputs": [
    {
     "name": "stderr",
     "output_type": "stream",
     "text": [
      "/home/cules/anaconda3/lib/python3.6/site-packages/sklearn/model_selection/_search.py:761: DeprecationWarning: The grid_scores_ attribute was deprecated in version 0.18 in favor of the more elaborate cv_results_ attribute. The grid_scores_ attribute will not be available from 0.20\n",
      "  DeprecationWarning)\n",
      "/home/cules/anaconda3/lib/python3.6/site-packages/sklearn/model_selection/_search.py:761: DeprecationWarning: The grid_scores_ attribute was deprecated in version 0.18 in favor of the more elaborate cv_results_ attribute. The grid_scores_ attribute will not be available from 0.20\n",
      "  DeprecationWarning)\n",
      "/home/cules/anaconda3/lib/python3.6/site-packages/sklearn/model_selection/_search.py:761: DeprecationWarning: The grid_scores_ attribute was deprecated in version 0.18 in favor of the more elaborate cv_results_ attribute. The grid_scores_ attribute will not be available from 0.20\n",
      "  DeprecationWarning)\n"
     ]
    },
    {
     "name": "stdout",
     "output_type": "stream",
     "text": [
      "Dark blue => 0.9709, dark red => 0.9737\n"
     ]
    },
    {
     "data": {
      "image/png": "[encoded data removed]",
      "text/plain": [
       "<Figure size 864x864 with 1 Axes>"
      ]
     },
     "metadata": {},
     "output_type": "display_data"
    }
   ],
   "source": [
    "_x = [s.parameters['c1'] for s in rs.grid_scores_]\n",
    "_y = [s.parameters['c2'] for s in rs.grid_scores_]\n",
    "_c = [s.mean_validation_score for s in rs.grid_scores_]\n",
    "\n",
    "fig = plt.figure()\n",
    "fig.set_size_inches(12, 12)\n",
    "ax = plt.gca()\n",
    "ax.set_yscale('log')\n",
    "ax.set_xscale('log')\n",
    "ax.set_xlabel('C1')\n",
    "ax.set_ylabel('C2')\n",
    "ax.set_title(\"Randomized Hyperparameter Search CV Results (min={:0.3}, max={:0.3})\".format(\n",
    "    min(_c), max(_c)\n",
    "))\n",
    "\n",
    "ax.scatter(_x, _y, c=_c, s=60, alpha=0.9, edgecolors=[0,0,0])\n",
    "\n",
    "print(\"Dark blue => {:0.4}, dark red => {:0.4}\".format(min(_c), max(_c)))\n"
   ]
  },
  {
   "cell_type": "code",
   "execution_count": null,
   "metadata": {},
   "outputs": [],
   "source": []
  }
 ],
 "metadata": {
  "kernelspec": {
   "display_name": "Python 2",
   "language": "python",
   "name": "python2"
  },
  "language_info": {
   "codemirror_mode": {
    "name": "ipython",
    "version": 3
   },
   "file_extension": ".py",
   "mimetype": "text/x-python",
   "name": "python",
   "nbconvert_exporter": "python",
   "pygments_lexer": "ipython3",
   "version": "3.6.5"
  }
 },
 "nbformat": 4,
 "nbformat_minor": 2
}
